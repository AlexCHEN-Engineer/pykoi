{
 "cells": [
  {
   "cell_type": "code",
   "execution_count": null,
   "metadata": {},
   "outputs": [],
   "source": [
    "import pandas as pd"
   ]
  },
  {
   "cell_type": "code",
   "execution_count": null,
   "metadata": {},
   "outputs": [],
   "source": [
    "!wget https://huggingface.co/datasets/lvwerra/stack-exchange-paired/resolve/main/data/reward/train-00000-of-00020.parquet"
   ]
  },
  {
   "cell_type": "code",
   "execution_count": null,
   "metadata": {},
   "outputs": [],
   "source": [
    "import pandas as pd\n",
    "\n",
    "stack_exchange_df = pd.read_parquet('train-00000-of-00020.parquet')\n",
    "stack_exchange_df"
   ]
  },
  {
   "cell_type": "code",
   "execution_count": null,
   "metadata": {},
   "outputs": [],
   "source": [
    "stack_exchange_df = stack_exchange_df[['qid', 'question', 'response_j', 'response_k']]\n",
    "stack_exchange_df.head()"
   ]
  },
  {
   "cell_type": "code",
   "execution_count": null,
   "metadata": {},
   "outputs": [],
   "source": [
    "RANKING_CSV_HEADER_ID = \"ID\"\n",
    "RANKING_CSV_HEADER_QUESTION = \"Question\"\n",
    "RANKING_CSV_HEADER_UP_RANKING_ANSWER = \"Up Ranking Answer\"\n",
    "RANKING_CSV_HEADER_LOW_RANKING_ANSWER = \"Low Ranking Answer\"\n",
    "RANKING_CSV_HEADER = (\n",
    "    RANKING_CSV_HEADER_ID,\n",
    "    RANKING_CSV_HEADER_QUESTION,\n",
    "    RANKING_CSV_HEADER_UP_RANKING_ANSWER,\n",
    "    RANKING_CSV_HEADER_LOW_RANKING_ANSWER,\n",
    ")"
   ]
  },
  {
   "cell_type": "code",
   "execution_count": null,
   "metadata": {},
   "outputs": [],
   "source": [
    "stack_exchange_df.columns = RANKING_CSV_HEADER\n",
    "stack_exchange_df.head()"
   ]
  },
  {
   "cell_type": "code",
   "execution_count": null,
   "metadata": {},
   "outputs": [],
   "source": [
    "stack_exchange_df.head(10000).to_csv(\"stack_exchange_10k_dataset.csv\")"
   ]
  },
  {
   "cell_type": "code",
   "execution_count": null,
   "metadata": {},
   "outputs": [],
   "source": [
    "stack_exchange_df_reload = pd.read_csv(\"stack_exchange_10k_dataset.csv\", index_col=0)\n",
    "stack_exchange_df_reload.head()"
   ]
  },
  {
   "cell_type": "code",
   "execution_count": null,
   "metadata": {},
   "outputs": [],
   "source": []
  }
 ],
 "metadata": {
  "kernelspec": {
   "display_name": "pykoi",
   "language": "python",
   "name": "python3"
  },
  "language_info": {
   "codemirror_mode": {
    "name": "ipython",
    "version": 3
   },
   "file_extension": ".py",
   "mimetype": "text/x-python",
   "name": "python",
   "nbconvert_exporter": "python",
   "pygments_lexer": "ipython3",
   "version": "3.10.12"
  },
  "orig_nbformat": 4
 },
 "nbformat": 4,
 "nbformat_minor": 2
}
