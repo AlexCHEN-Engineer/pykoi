{
 "cells": [
  {
   "cell_type": "code",
   "execution_count": null,
   "metadata": {},
   "outputs": [],
   "source": []
  },
  {
   "cell_type": "code",
   "execution_count": 1,
   "metadata": {},
   "outputs": [
    {
     "name": "stderr",
     "output_type": "stream",
     "text": [
      "/opt/conda/envs/pykoi/lib/python3.10/site-packages/tqdm/auto.py:21: TqdmWarning: IProgress not found. Please update jupyter and ipywidgets. See https://ipywidgets.readthedocs.io/en/stable/user_install.html\n",
      "  from .autonotebook import tqdm as notebook_tqdm\n"
     ]
    }
   ],
   "source": [
    "import pykoi"
   ]
  },
  {
   "cell_type": "markdown",
   "metadata": {},
   "source": [
    "### Define my DB"
   ]
  },
  {
   "cell_type": "code",
   "execution_count": 2,
   "metadata": {},
   "outputs": [],
   "source": [
    "qa_database = pykoi.QuestionAnswerDatabase()"
   ]
  },
  {
   "cell_type": "code",
   "execution_count": 5,
   "metadata": {},
   "outputs": [],
   "source": [
    "QA_CSV_HEADER_ID = 'ID'\n",
    "QA_CSV_HEADER_QUESTION = 'Question'\n",
    "QA_CSV_HEADER_ANSWER = 'Answer'\n",
    "QA_CSV_HEADER_VOTE_STATUS = 'Vote Status'\n",
    "QA_CSV_HEADER_TIMESTAMPS = 'Timestamp'\n",
    "QA_CSV_HEADER = (\n",
    "    QA_CSV_HEADER_ID,\n",
    "    QA_CSV_HEADER_QUESTION,\n",
    "    QA_CSV_HEADER_ANSWER,\n",
    "    QA_CSV_HEADER_VOTE_STATUS,\n",
    "    QA_CSV_HEADER_TIMESTAMPS\n",
    ")"
   ]
  },
  {
   "cell_type": "code",
   "execution_count": 3,
   "metadata": {},
   "outputs": [
    {
     "data": {
      "text/html": [
       "<div>\n",
       "<style scoped>\n",
       "    .dataframe tbody tr th:only-of-type {\n",
       "        vertical-align: middle;\n",
       "    }\n",
       "\n",
       "    .dataframe tbody tr th {\n",
       "        vertical-align: top;\n",
       "    }\n",
       "\n",
       "    .dataframe thead th {\n",
       "        text-align: right;\n",
       "    }\n",
       "</style>\n",
       "<table border=\"1\" class=\"dataframe\">\n",
       "  <thead>\n",
       "    <tr style=\"text-align: right;\">\n",
       "      <th></th>\n",
       "      <th>ID</th>\n",
       "      <th>Question</th>\n",
       "      <th>Answer</th>\n",
       "      <th>Vote Status</th>\n",
       "      <th>Timestamp</th>\n",
       "    </tr>\n",
       "  </thead>\n",
       "  <tbody>\n",
       "    <tr>\n",
       "      <th>0</th>\n",
       "      <td>1</td>\n",
       "      <td>who founded YC and what does YC do</td>\n",
       "      <td>Y Combinator is a startup accelerator that pro...</td>\n",
       "      <td>down</td>\n",
       "      <td>2023-07-24 08:28:29.461045</td>\n",
       "    </tr>\n",
       "    <tr>\n",
       "      <th>1</th>\n",
       "      <td>2</td>\n",
       "      <td>what are the top YC companies</td>\n",
       "      <td>I am looking for a list of the top YC companie...</td>\n",
       "      <td>down</td>\n",
       "      <td>2023-07-24 08:29:17.521467</td>\n",
       "    </tr>\n",
       "    <tr>\n",
       "      <th>2</th>\n",
       "      <td>3</td>\n",
       "      <td>How much does top 10 YC companies worth</td>\n",
       "      <td>According to the latest Crunchbase data, the 1...</td>\n",
       "      <td>down</td>\n",
       "      <td>2023-07-24 08:29:58.248998</td>\n",
       "    </tr>\n",
       "    <tr>\n",
       "      <th>3</th>\n",
       "      <td>4</td>\n",
       "      <td>What's the meaning of life</td>\n",
       "      <td>The meaning of life is to be happy, to be usef...</td>\n",
       "      <td>down</td>\n",
       "      <td>2023-07-24 19:26:04.713297</td>\n",
       "    </tr>\n",
       "    <tr>\n",
       "      <th>4</th>\n",
       "      <td>5</td>\n",
       "      <td>What is the meaning of life</td>\n",
       "      <td>The meaning of life is to find your gift. The ...</td>\n",
       "      <td>up</td>\n",
       "      <td>2023-07-24 19:26:28.676427</td>\n",
       "    </tr>\n",
       "  </tbody>\n",
       "</table>\n",
       "</div>"
      ],
      "text/plain": [
       "   ID                                 Question  \\\n",
       "0   1       who founded YC and what does YC do   \n",
       "1   2            what are the top YC companies   \n",
       "2   3  How much does top 10 YC companies worth   \n",
       "3   4               What's the meaning of life   \n",
       "4   5              What is the meaning of life   \n",
       "\n",
       "                                              Answer Vote Status  \\\n",
       "0  Y Combinator is a startup accelerator that pro...        down   \n",
       "1  I am looking for a list of the top YC companie...        down   \n",
       "2  According to the latest Crunchbase data, the 1...        down   \n",
       "3  The meaning of life is to be happy, to be usef...        down   \n",
       "4  The meaning of life is to find your gift. The ...          up   \n",
       "\n",
       "                    Timestamp  \n",
       "0  2023-07-24 08:28:29.461045  \n",
       "1  2023-07-24 08:29:17.521467  \n",
       "2  2023-07-24 08:29:58.248998  \n",
       "3  2023-07-24 19:26:04.713297  \n",
       "4  2023-07-24 19:26:28.676427  "
      ]
     },
     "execution_count": 3,
     "metadata": {},
     "output_type": "execute_result"
    }
   ],
   "source": [
    "my_data_pd = qa_database.retrieve_all_question_answers_as_pandas()\n",
    "my_data_pd.head()"
   ]
  },
  {
   "cell_type": "code",
   "execution_count": 6,
   "metadata": {},
   "outputs": [
    {
     "data": {
      "text/plain": [
       "(118, 5)"
      ]
     },
     "execution_count": 6,
     "metadata": {},
     "output_type": "execute_result"
    }
   ],
   "source": [
    "my_data_pd = my_data_pd[my_data_pd[QA_CSV_HEADER_VOTE_STATUS]==\"up\"]\n",
    "my_data_pd.shape"
   ]
  },
  {
   "cell_type": "code",
   "execution_count": null,
   "metadata": {},
   "outputs": [],
   "source": []
  },
  {
   "cell_type": "code",
   "execution_count": null,
   "metadata": {},
   "outputs": [],
   "source": []
  },
  {
   "cell_type": "markdown",
   "metadata": {},
   "source": [
    "### Load from HF"
   ]
  },
  {
   "cell_type": "code",
   "execution_count": 7,
   "metadata": {},
   "outputs": [
    {
     "name": "stdout",
     "output_type": "stream",
     "text": [
      "--2023-07-26 22:30:10--  https://huggingface.co/datasets/lvwerra/stack-exchange-paired/resolve/main/data/reward/train-00000-of-00020.parquet\n",
      "Resolving huggingface.co (huggingface.co)... 99.84.66.70, 99.84.66.72, 99.84.66.112, ...\n",
      "Connecting to huggingface.co (huggingface.co)|99.84.66.70|:443... connected.\n",
      "HTTP request sent, awaiting response... 302 Found\n",
      "Location: https://cdn-lfs.huggingface.co/repos/da/9a/da9a97da0630d3286f74d6b44d86813e7485d35f9dc4dcf915108587a6c56338/1634d85b864804e51e92f1b9820eca64fbd34d5972d3eaed74a5dbef424f4494?response-content-disposition=attachment%3B+filename*%3DUTF-8%27%27train-00000-of-00020.parquet%3B+filename%3D%22train-00000-of-00020.parquet%22%3B&Expires=1690669810&Policy=eyJTdGF0ZW1lbnQiOlt7IkNvbmRpdGlvbiI6eyJEYXRlTGVzc1RoYW4iOnsiQVdTOkVwb2NoVGltZSI6MTY5MDY2OTgxMH19LCJSZXNvdXJjZSI6Imh0dHBzOi8vY2RuLWxmcy5odWdnaW5nZmFjZS5jby9yZXBvcy9kYS85YS9kYTlhOTdkYTA2MzBkMzI4NmY3NGQ2YjQ0ZDg2ODEzZTc0ODVkMzVmOWRjNGRjZjkxNTEwODU4N2E2YzU2MzM4LzE2MzRkODViODY0ODA0ZTUxZTkyZjFiOTgyMGVjYTY0ZmJkMzRkNTk3MmQzZWFlZDc0YTVkYmVmNDI0ZjQ0OTQ%7EcmVzcG9uc2UtY29udGVudC1kaXNwb3NpdGlvbj0qIn1dfQ__&Signature=DL9OJUVWbMqdyHJirOxQh5EDQAooAsw7CDZfH6OWKIhu4d6d5%7EMg49Hk4zj1pHI%7E0AWL9Qcafj1Lrlrnyw%7EmAfyyQ6o6WqTNuatGMA7%7EQxLN9DIVcRGTFlXG8bHEqLCqfyOu336-9HEb5d7qEY83SG92HiXiV0Xk2RuQtSO6gyMOppX7dgRuAiANdYPN-bDdg-5PMALZ5w0lQymgnFyGWCTSTdjwc4cwvuRpG%7EYEowAwdBx21Q%7E0R1f7LREFtaE6HPwfWCvXsgBTh4fen2qHSHbMBcjlZDe0qcMHtPnYQsIyfDfC70g5-T5uTh7ht2IG2Zle3CpLkZrJ7QpmGcxUog__&Key-Pair-Id=KVTP0A1DKRTAX [following]\n",
      "--2023-07-26 22:30:10--  https://cdn-lfs.huggingface.co/repos/da/9a/da9a97da0630d3286f74d6b44d86813e7485d35f9dc4dcf915108587a6c56338/1634d85b864804e51e92f1b9820eca64fbd34d5972d3eaed74a5dbef424f4494?response-content-disposition=attachment%3B+filename*%3DUTF-8%27%27train-00000-of-00020.parquet%3B+filename%3D%22train-00000-of-00020.parquet%22%3B&Expires=1690669810&Policy=eyJTdGF0ZW1lbnQiOlt7IkNvbmRpdGlvbiI6eyJEYXRlTGVzc1RoYW4iOnsiQVdTOkVwb2NoVGltZSI6MTY5MDY2OTgxMH19LCJSZXNvdXJjZSI6Imh0dHBzOi8vY2RuLWxmcy5odWdnaW5nZmFjZS5jby9yZXBvcy9kYS85YS9kYTlhOTdkYTA2MzBkMzI4NmY3NGQ2YjQ0ZDg2ODEzZTc0ODVkMzVmOWRjNGRjZjkxNTEwODU4N2E2YzU2MzM4LzE2MzRkODViODY0ODA0ZTUxZTkyZjFiOTgyMGVjYTY0ZmJkMzRkNTk3MmQzZWFlZDc0YTVkYmVmNDI0ZjQ0OTQ%7EcmVzcG9uc2UtY29udGVudC1kaXNwb3NpdGlvbj0qIn1dfQ__&Signature=DL9OJUVWbMqdyHJirOxQh5EDQAooAsw7CDZfH6OWKIhu4d6d5%7EMg49Hk4zj1pHI%7E0AWL9Qcafj1Lrlrnyw%7EmAfyyQ6o6WqTNuatGMA7%7EQxLN9DIVcRGTFlXG8bHEqLCqfyOu336-9HEb5d7qEY83SG92HiXiV0Xk2RuQtSO6gyMOppX7dgRuAiANdYPN-bDdg-5PMALZ5w0lQymgnFyGWCTSTdjwc4cwvuRpG%7EYEowAwdBx21Q%7E0R1f7LREFtaE6HPwfWCvXsgBTh4fen2qHSHbMBcjlZDe0qcMHtPnYQsIyfDfC70g5-T5uTh7ht2IG2Zle3CpLkZrJ7QpmGcxUog__&Key-Pair-Id=KVTP0A1DKRTAX\n",
      "Resolving cdn-lfs.huggingface.co (cdn-lfs.huggingface.co)... 18.161.6.100, 18.161.6.107, 18.161.6.81, ...\n",
      "Connecting to cdn-lfs.huggingface.co (cdn-lfs.huggingface.co)|18.161.6.100|:443... connected.\n",
      "HTTP request sent, awaiting response... 200 OK\n",
      "Length: 314521444 (300M) [application/octet-stream]\n",
      "Saving to: ‘train-00000-of-00020.parquet’\n",
      "\n",
      "train-00000-of-0002 100%[===================>] 299.95M   333MB/s    in 0.9s    \n",
      "\n",
      "2023-07-26 22:30:11 (333 MB/s) - ‘train-00000-of-00020.parquet’ saved [314521444/314521444]\n",
      "\n"
     ]
    }
   ],
   "source": [
    "!wget https://huggingface.co/datasets/lvwerra/stack-exchange-paired/resolve/main/data/reward/train-00000-of-00020.parquet"
   ]
  },
  {
   "cell_type": "code",
   "execution_count": 12,
   "metadata": {},
   "outputs": [
    {
     "data": {
      "text/html": [
       "<div>\n",
       "<style scoped>\n",
       "    .dataframe tbody tr th:only-of-type {\n",
       "        vertical-align: middle;\n",
       "    }\n",
       "\n",
       "    .dataframe tbody tr th {\n",
       "        vertical-align: top;\n",
       "    }\n",
       "\n",
       "    .dataframe thead th {\n",
       "        text-align: right;\n",
       "    }\n",
       "</style>\n",
       "<table border=\"1\" class=\"dataframe\">\n",
       "  <thead>\n",
       "    <tr style=\"text-align: right;\">\n",
       "      <th></th>\n",
       "      <th>qid</th>\n",
       "      <th>question</th>\n",
       "      <th>date</th>\n",
       "      <th>metadata</th>\n",
       "      <th>response_j</th>\n",
       "      <th>response_k</th>\n",
       "    </tr>\n",
       "  </thead>\n",
       "  <tbody>\n",
       "    <tr>\n",
       "      <th>0</th>\n",
       "      <td>538868</td>\n",
       "      <td>I have a question to those who are really prof...</td>\n",
       "      <td>2020/03/27</td>\n",
       "      <td>[https://physics.stackexchange.com/questions/5...</td>\n",
       "      <td>In the absence of a magnetic field the velocit...</td>\n",
       "      <td>Can MHD work on \"cold plasma\"? Is there any ef...</td>\n",
       "    </tr>\n",
       "    <tr>\n",
       "      <th>1</th>\n",
       "      <td>3665283</td>\n",
       "      <td>When looking at dI/dt we have a term gamma\\*I,...</td>\n",
       "      <td>2020/05/08</td>\n",
       "      <td>[https://math.stackexchange.com/questions/3665...</td>\n",
       "      <td>If we have $I$ infected people and the recover...</td>\n",
       "      <td>Imagine a situation where each infected indivi...</td>\n",
       "    </tr>\n",
       "    <tr>\n",
       "      <th>2</th>\n",
       "      <td>3665283</td>\n",
       "      <td>When looking at dI/dt we have a term gamma\\*I,...</td>\n",
       "      <td>2020/05/08</td>\n",
       "      <td>[https://math.stackexchange.com/questions/3665...</td>\n",
       "      <td>If we have $I$ infected people and the recover...</td>\n",
       "      <td>The others have addressed the question, I just...</td>\n",
       "    </tr>\n",
       "    <tr>\n",
       "      <th>3</th>\n",
       "      <td>3665283</td>\n",
       "      <td>When looking at dI/dt we have a term gamma\\*I,...</td>\n",
       "      <td>2020/05/08</td>\n",
       "      <td>[https://math.stackexchange.com/questions/3665...</td>\n",
       "      <td>Imagine a situation where each infected indivi...</td>\n",
       "      <td>The others have addressed the question, I just...</td>\n",
       "    </tr>\n",
       "    <tr>\n",
       "      <th>4</th>\n",
       "      <td>32965609</td>\n",
       "      <td>I have a setup where I use a service to log a ...</td>\n",
       "      <td>2015/10/06</td>\n",
       "      <td>[https://Stackoverflow.com/questions/32965609,...</td>\n",
       "      <td>In your code, if there is no user logged in (s...</td>\n",
       "      <td>My current work-around is creating an other Sa...</td>\n",
       "    </tr>\n",
       "    <tr>\n",
       "      <th>...</th>\n",
       "      <td>...</td>\n",
       "      <td>...</td>\n",
       "      <td>...</td>\n",
       "      <td>...</td>\n",
       "      <td>...</td>\n",
       "      <td>...</td>\n",
       "    </tr>\n",
       "    <tr>\n",
       "      <th>372095</th>\n",
       "      <td>55926830</td>\n",
       "      <td>I'm filtering some data where say table.x has ...</td>\n",
       "      <td>2019/04/30</td>\n",
       "      <td>[https://Stackoverflow.com/questions/55926830,...</td>\n",
       "      <td>What about using `DISTINCT` with one column li...</td>\n",
       "      <td>Try to use window function\\n\\n```\\nselect \\n  ...</td>\n",
       "    </tr>\n",
       "    <tr>\n",
       "      <th>372096</th>\n",
       "      <td>55926830</td>\n",
       "      <td>I'm filtering some data where say table.x has ...</td>\n",
       "      <td>2019/04/30</td>\n",
       "      <td>[https://Stackoverflow.com/questions/55926830,...</td>\n",
       "      <td>You could usea inner join on max col3 group by...</td>\n",
       "      <td>Try to use window function\\n\\n```\\nselect \\n  ...</td>\n",
       "    </tr>\n",
       "    <tr>\n",
       "      <th>372097</th>\n",
       "      <td>55926830</td>\n",
       "      <td>I'm filtering some data where say table.x has ...</td>\n",
       "      <td>2019/04/30</td>\n",
       "      <td>[https://Stackoverflow.com/questions/55926830,...</td>\n",
       "      <td>Try the following SQL code:\\n\\n```\\nSELECT max...</td>\n",
       "      <td>Try to use window function\\n\\n```\\nselect \\n  ...</td>\n",
       "    </tr>\n",
       "    <tr>\n",
       "      <th>372098</th>\n",
       "      <td>282381</td>\n",
       "      <td>I want to return the previous row based on the...</td>\n",
       "      <td>2020/12/31</td>\n",
       "      <td>[https://dba.stackexchange.com/questions/28238...</td>\n",
       "      <td>Window functions work on the result after the ...</td>\n",
       "      <td>You just need to add an `OVER` and `ORDER BY` ...</td>\n",
       "    </tr>\n",
       "    <tr>\n",
       "      <th>372099</th>\n",
       "      <td>63599077</td>\n",
       "      <td>I am trying to differentiate the linetype and/...</td>\n",
       "      <td>2020/08/26</td>\n",
       "      <td>[https://Stackoverflow.com/questions/63599077,...</td>\n",
       "      <td>C++ treats `const` very strictly. Copying such...</td>\n",
       "      <td>In C++, an object can be initialized only once...</td>\n",
       "    </tr>\n",
       "  </tbody>\n",
       "</table>\n",
       "<p>372100 rows × 6 columns</p>\n",
       "</div>"
      ],
      "text/plain": [
       "             qid                                           question  \\\n",
       "0         538868  I have a question to those who are really prof...   \n",
       "1        3665283  When looking at dI/dt we have a term gamma\\*I,...   \n",
       "2        3665283  When looking at dI/dt we have a term gamma\\*I,...   \n",
       "3        3665283  When looking at dI/dt we have a term gamma\\*I,...   \n",
       "4       32965609  I have a setup where I use a service to log a ...   \n",
       "...          ...                                                ...   \n",
       "372095  55926830  I'm filtering some data where say table.x has ...   \n",
       "372096  55926830  I'm filtering some data where say table.x has ...   \n",
       "372097  55926830  I'm filtering some data where say table.x has ...   \n",
       "372098    282381  I want to return the previous row based on the...   \n",
       "372099  63599077  I am trying to differentiate the linetype and/...   \n",
       "\n",
       "              date                                           metadata  \\\n",
       "0       2020/03/27  [https://physics.stackexchange.com/questions/5...   \n",
       "1       2020/05/08  [https://math.stackexchange.com/questions/3665...   \n",
       "2       2020/05/08  [https://math.stackexchange.com/questions/3665...   \n",
       "3       2020/05/08  [https://math.stackexchange.com/questions/3665...   \n",
       "4       2015/10/06  [https://Stackoverflow.com/questions/32965609,...   \n",
       "...            ...                                                ...   \n",
       "372095  2019/04/30  [https://Stackoverflow.com/questions/55926830,...   \n",
       "372096  2019/04/30  [https://Stackoverflow.com/questions/55926830,...   \n",
       "372097  2019/04/30  [https://Stackoverflow.com/questions/55926830,...   \n",
       "372098  2020/12/31  [https://dba.stackexchange.com/questions/28238...   \n",
       "372099  2020/08/26  [https://Stackoverflow.com/questions/63599077,...   \n",
       "\n",
       "                                               response_j  \\\n",
       "0       In the absence of a magnetic field the velocit...   \n",
       "1       If we have $I$ infected people and the recover...   \n",
       "2       If we have $I$ infected people and the recover...   \n",
       "3       Imagine a situation where each infected indivi...   \n",
       "4       In your code, if there is no user logged in (s...   \n",
       "...                                                   ...   \n",
       "372095  What about using `DISTINCT` with one column li...   \n",
       "372096  You could usea inner join on max col3 group by...   \n",
       "372097  Try the following SQL code:\\n\\n```\\nSELECT max...   \n",
       "372098  Window functions work on the result after the ...   \n",
       "372099  C++ treats `const` very strictly. Copying such...   \n",
       "\n",
       "                                               response_k  \n",
       "0       Can MHD work on \"cold plasma\"? Is there any ef...  \n",
       "1       Imagine a situation where each infected indivi...  \n",
       "2       The others have addressed the question, I just...  \n",
       "3       The others have addressed the question, I just...  \n",
       "4       My current work-around is creating an other Sa...  \n",
       "...                                                   ...  \n",
       "372095  Try to use window function\\n\\n```\\nselect \\n  ...  \n",
       "372096  Try to use window function\\n\\n```\\nselect \\n  ...  \n",
       "372097  Try to use window function\\n\\n```\\nselect \\n  ...  \n",
       "372098  You just need to add an `OVER` and `ORDER BY` ...  \n",
       "372099  In C++, an object can be initialized only once...  \n",
       "\n",
       "[372100 rows x 6 columns]"
      ]
     },
     "execution_count": 12,
     "metadata": {},
     "output_type": "execute_result"
    }
   ],
   "source": [
    "import pandas as pd\n",
    "\n",
    "stack_exchange_rank_df = pd.read_parquet('train-00000-of-00020.parquet')\n",
    "stack_exchange_rank_df"
   ]
  },
  {
   "cell_type": "code",
   "execution_count": 13,
   "metadata": {},
   "outputs": [
    {
     "data": {
      "text/html": [
       "<div>\n",
       "<style scoped>\n",
       "    .dataframe tbody tr th:only-of-type {\n",
       "        vertical-align: middle;\n",
       "    }\n",
       "\n",
       "    .dataframe tbody tr th {\n",
       "        vertical-align: top;\n",
       "    }\n",
       "\n",
       "    .dataframe thead th {\n",
       "        text-align: right;\n",
       "    }\n",
       "</style>\n",
       "<table border=\"1\" class=\"dataframe\">\n",
       "  <thead>\n",
       "    <tr style=\"text-align: right;\">\n",
       "      <th></th>\n",
       "      <th>qid</th>\n",
       "      <th>question</th>\n",
       "      <th>response_j</th>\n",
       "      <th>response_k</th>\n",
       "    </tr>\n",
       "  </thead>\n",
       "  <tbody>\n",
       "    <tr>\n",
       "      <th>0</th>\n",
       "      <td>538868</td>\n",
       "      <td>I have a question to those who are really prof...</td>\n",
       "      <td>In the absence of a magnetic field the velocit...</td>\n",
       "      <td>Can MHD work on \"cold plasma\"? Is there any ef...</td>\n",
       "    </tr>\n",
       "    <tr>\n",
       "      <th>1</th>\n",
       "      <td>3665283</td>\n",
       "      <td>When looking at dI/dt we have a term gamma\\*I,...</td>\n",
       "      <td>If we have $I$ infected people and the recover...</td>\n",
       "      <td>Imagine a situation where each infected indivi...</td>\n",
       "    </tr>\n",
       "    <tr>\n",
       "      <th>2</th>\n",
       "      <td>3665283</td>\n",
       "      <td>When looking at dI/dt we have a term gamma\\*I,...</td>\n",
       "      <td>If we have $I$ infected people and the recover...</td>\n",
       "      <td>The others have addressed the question, I just...</td>\n",
       "    </tr>\n",
       "    <tr>\n",
       "      <th>3</th>\n",
       "      <td>3665283</td>\n",
       "      <td>When looking at dI/dt we have a term gamma\\*I,...</td>\n",
       "      <td>Imagine a situation where each infected indivi...</td>\n",
       "      <td>The others have addressed the question, I just...</td>\n",
       "    </tr>\n",
       "    <tr>\n",
       "      <th>4</th>\n",
       "      <td>32965609</td>\n",
       "      <td>I have a setup where I use a service to log a ...</td>\n",
       "      <td>In your code, if there is no user logged in (s...</td>\n",
       "      <td>My current work-around is creating an other Sa...</td>\n",
       "    </tr>\n",
       "  </tbody>\n",
       "</table>\n",
       "</div>"
      ],
      "text/plain": [
       "        qid                                           question  \\\n",
       "0    538868  I have a question to those who are really prof...   \n",
       "1   3665283  When looking at dI/dt we have a term gamma\\*I,...   \n",
       "2   3665283  When looking at dI/dt we have a term gamma\\*I,...   \n",
       "3   3665283  When looking at dI/dt we have a term gamma\\*I,...   \n",
       "4  32965609  I have a setup where I use a service to log a ...   \n",
       "\n",
       "                                          response_j  \\\n",
       "0  In the absence of a magnetic field the velocit...   \n",
       "1  If we have $I$ infected people and the recover...   \n",
       "2  If we have $I$ infected people and the recover...   \n",
       "3  Imagine a situation where each infected indivi...   \n",
       "4  In your code, if there is no user logged in (s...   \n",
       "\n",
       "                                          response_k  \n",
       "0  Can MHD work on \"cold plasma\"? Is there any ef...  \n",
       "1  Imagine a situation where each infected indivi...  \n",
       "2  The others have addressed the question, I just...  \n",
       "3  The others have addressed the question, I just...  \n",
       "4  My current work-around is creating an other Sa...  "
      ]
     },
     "execution_count": 13,
     "metadata": {},
     "output_type": "execute_result"
    }
   ],
   "source": [
    "stack_exchange_rank_df = stack_exchange_rank_df[['qid','question', 'response_j', 'response_k']]\n",
    "stack_exchange_rank_df.head()"
   ]
  },
  {
   "cell_type": "code",
   "execution_count": 14,
   "metadata": {},
   "outputs": [
    {
     "data": {
      "text/html": [
       "<div>\n",
       "<style scoped>\n",
       "    .dataframe tbody tr th:only-of-type {\n",
       "        vertical-align: middle;\n",
       "    }\n",
       "\n",
       "    .dataframe tbody tr th {\n",
       "        vertical-align: top;\n",
       "    }\n",
       "\n",
       "    .dataframe thead th {\n",
       "        text-align: right;\n",
       "    }\n",
       "</style>\n",
       "<table border=\"1\" class=\"dataframe\">\n",
       "  <thead>\n",
       "    <tr style=\"text-align: right;\">\n",
       "      <th></th>\n",
       "      <th>ID</th>\n",
       "      <th>Question</th>\n",
       "      <th>Up Ranking Answer</th>\n",
       "      <th>Low Ranking Answer</th>\n",
       "    </tr>\n",
       "  </thead>\n",
       "  <tbody>\n",
       "    <tr>\n",
       "      <th>0</th>\n",
       "      <td>538868</td>\n",
       "      <td>I have a question to those who are really prof...</td>\n",
       "      <td>In the absence of a magnetic field the velocit...</td>\n",
       "      <td>Can MHD work on \"cold plasma\"? Is there any ef...</td>\n",
       "    </tr>\n",
       "    <tr>\n",
       "      <th>1</th>\n",
       "      <td>3665283</td>\n",
       "      <td>When looking at dI/dt we have a term gamma\\*I,...</td>\n",
       "      <td>If we have $I$ infected people and the recover...</td>\n",
       "      <td>Imagine a situation where each infected indivi...</td>\n",
       "    </tr>\n",
       "    <tr>\n",
       "      <th>2</th>\n",
       "      <td>3665283</td>\n",
       "      <td>When looking at dI/dt we have a term gamma\\*I,...</td>\n",
       "      <td>If we have $I$ infected people and the recover...</td>\n",
       "      <td>The others have addressed the question, I just...</td>\n",
       "    </tr>\n",
       "    <tr>\n",
       "      <th>3</th>\n",
       "      <td>3665283</td>\n",
       "      <td>When looking at dI/dt we have a term gamma\\*I,...</td>\n",
       "      <td>Imagine a situation where each infected indivi...</td>\n",
       "      <td>The others have addressed the question, I just...</td>\n",
       "    </tr>\n",
       "    <tr>\n",
       "      <th>4</th>\n",
       "      <td>32965609</td>\n",
       "      <td>I have a setup where I use a service to log a ...</td>\n",
       "      <td>In your code, if there is no user logged in (s...</td>\n",
       "      <td>My current work-around is creating an other Sa...</td>\n",
       "    </tr>\n",
       "  </tbody>\n",
       "</table>\n",
       "</div>"
      ],
      "text/plain": [
       "         ID                                           Question  \\\n",
       "0    538868  I have a question to those who are really prof...   \n",
       "1   3665283  When looking at dI/dt we have a term gamma\\*I,...   \n",
       "2   3665283  When looking at dI/dt we have a term gamma\\*I,...   \n",
       "3   3665283  When looking at dI/dt we have a term gamma\\*I,...   \n",
       "4  32965609  I have a setup where I use a service to log a ...   \n",
       "\n",
       "                                   Up Ranking Answer  \\\n",
       "0  In the absence of a magnetic field the velocit...   \n",
       "1  If we have $I$ infected people and the recover...   \n",
       "2  If we have $I$ infected people and the recover...   \n",
       "3  Imagine a situation where each infected indivi...   \n",
       "4  In your code, if there is no user logged in (s...   \n",
       "\n",
       "                                  Low Ranking Answer  \n",
       "0  Can MHD work on \"cold plasma\"? Is there any ef...  \n",
       "1  Imagine a situation where each infected indivi...  \n",
       "2  The others have addressed the question, I just...  \n",
       "3  The others have addressed the question, I just...  \n",
       "4  My current work-around is creating an other Sa...  "
      ]
     },
     "execution_count": 14,
     "metadata": {},
     "output_type": "execute_result"
    }
   ],
   "source": [
    "stack_exchange_rank_df.columns = RANKING_CSV_HEADER\n",
    "stack_exchange_rank_df.head()"
   ]
  },
  {
   "cell_type": "code",
   "execution_count": 15,
   "metadata": {},
   "outputs": [],
   "source": [
    "stack_exchange_rank_df.head(10000).to_csv(\"stack_exchange_rank_10k_dataset.csv\")"
   ]
  },
  {
   "cell_type": "code",
   "execution_count": 17,
   "metadata": {},
   "outputs": [
    {
     "data": {
      "text/plain": [
       "Dataset({\n",
       "    features: ['ID', 'Question', 'Up Ranking Answer', 'Low Ranking Answer'],\n",
       "    num_rows: 10000\n",
       "})"
      ]
     },
     "execution_count": 17,
     "metadata": {},
     "output_type": "execute_result"
    }
   ],
   "source": [
    "from datasets import Dataset, load_dataset\n",
    "dataset = Dataset.from_pandas(stack_exchange_rank_df.head(10000))\n",
    "dataset"
   ]
  },
  {
   "cell_type": "code",
   "execution_count": 21,
   "metadata": {},
   "outputs": [
    {
     "name": "stderr",
     "output_type": "stream",
     "text": [
      "Creating parquet from Arrow format: 100%|██████████| 10/10 [00:00<00:00, 171.57ba/s]\n",
      "Pushing dataset shards to the dataset hub: 100%|██████████| 1/1 [00:01<00:00,  1.87s/it]\n"
     ]
    }
   ],
   "source": [
    "## On HF Hub UI, create a new Dataset (source: https://huggingface.co/docs/datasets/upload_dataset#create-a-repository)\n",
    "dataset.push_to_hub(\"goldmermaid/stack_exchange_rank_10k_dataset\", private=True)\n"
   ]
  },
  {
   "cell_type": "code",
   "execution_count": null,
   "metadata": {},
   "outputs": [],
   "source": []
  }
 ],
 "metadata": {
  "kernelspec": {
   "display_name": "pykoi",
   "language": "python",
   "name": "python3"
  },
  "language_info": {
   "codemirror_mode": {
    "name": "ipython",
    "version": 3
   },
   "file_extension": ".py",
   "mimetype": "text/x-python",
   "name": "python",
   "nbconvert_exporter": "python",
   "pygments_lexer": "ipython3",
   "version": "3.10.12"
  },
  "orig_nbformat": 4
 },
 "nbformat": 4,
 "nbformat_minor": 2
}
