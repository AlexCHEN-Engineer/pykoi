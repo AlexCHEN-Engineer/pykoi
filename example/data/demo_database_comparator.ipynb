{
 "cells": [
  {
   "attachments": {},
   "cell_type": "markdown",
   "metadata": {},
   "source": []
  },
  {
   "cell_type": "code",
   "execution_count": 1,
   "metadata": {},
   "outputs": [
    {
     "name": "stdout",
     "output_type": "stream",
     "text": [
      "/Users/goldpiggy/git/pykoi\n"
     ]
    }
   ],
   "source": [
    "%reload_ext autoreload\n",
    "%autoreload 2\n",
    "\n",
    "import os\n",
    "import sys\n",
    "\n",
    "# Add the root folder to the module search path\n",
    "# Get the current directory\n",
    "current_directory = os.getcwd()\n",
    "\n",
    "# Move two levels up (go to the parent directory of the parent directory)\n",
    "two_levels_up_directory = os.path.dirname(os.path.dirname(current_directory))\n",
    "\n",
    "print(two_levels_up_directory)\n",
    "\n",
    "sys.path.append(two_levels_up_directory)"
   ]
  },
  {
   "cell_type": "code",
   "execution_count": 2,
   "metadata": {},
   "outputs": [
    {
     "name": "stderr",
     "output_type": "stream",
     "text": [
      "/Users/goldpiggy/anaconda3/envs/0731a/lib/python3.10/site-packages/tqdm/auto.py:21: TqdmWarning: IProgress not found. Please update jupyter and ipywidgets. See https://ipywidgets.readthedocs.io/en/stable/user_install.html\n",
      "  from .autonotebook import tqdm as notebook_tqdm\n",
      "/Users/goldpiggy/anaconda3/envs/0731a/lib/python3.10/site-packages/bitsandbytes/cextension.py:34: UserWarning: The installed version of bitsandbytes was compiled without GPU support. 8-bit optimizers, 8-bit multiplication, and GPU quantization are unavailable.\n",
      "  warn(\"The installed version of bitsandbytes was compiled without GPU support. \"\n"
     ]
    },
    {
     "name": "stdout",
     "output_type": "stream",
     "text": [
      "'NoneType' object has no attribute 'cadam32bit_grad_fp32'\n",
      "Table contents after creating table:\n"
     ]
    }
   ],
   "source": [
    "from pykoi.db.comparator_database import ComparatorQuestionDatabase\n",
    "db = ComparatorQuestionDatabase(debug=True)"
   ]
  },
  {
   "cell_type": "code",
   "execution_count": 4,
   "metadata": {},
   "outputs": [
    {
     "name": "stdout",
     "output_type": "stream",
     "text": [
      "Table contents after inserting table:\n",
      "ID: 1, Question: Who is who?, Timestamp: 2023-07-31 11:20:41.205430\n",
      "ID: 2, Question: Who is the founder of YC?, Timestamp: 2023-07-31 11:21:02.673281\n"
     ]
    }
   ],
   "source": [
    "id = db.insert(question=\"Who is the founder of YC?\")"
   ]
  },
  {
   "cell_type": "code",
   "execution_count": 5,
   "metadata": {},
   "outputs": [
    {
     "data": {
      "text/plain": [
       "[(1, 'Who is who?', '2023-07-31 11:20:41.205430'),\n",
       " (2, 'Who is the founder of YC?', '2023-07-31 11:21:02.673281')]"
      ]
     },
     "execution_count": 5,
     "metadata": {},
     "output_type": "execute_result"
    }
   ],
   "source": [
    "my_sql_data = db.retrieve_all()\n",
    "my_sql_data"
   ]
  },
  {
   "cell_type": "code",
   "execution_count": 6,
   "metadata": {},
   "outputs": [],
   "source": [
    "db.close_connection()"
   ]
  },
  {
   "cell_type": "code",
   "execution_count": 7,
   "metadata": {},
   "outputs": [
    {
     "name": "stdout",
     "output_type": "stream",
     "text": [
      "Table contents after creating table:\n"
     ]
    }
   ],
   "source": [
    "from pykoi.db.comparator_database import ComparatorDatabase\n",
    "c_db = ComparatorDatabase(debug=True)"
   ]
  },
  {
   "cell_type": "code",
   "execution_count": 8,
   "metadata": {},
   "outputs": [
    {
     "name": "stdout",
     "output_type": "stream",
     "text": [
      "Table contents after inserting table\n",
      "ID: 1, Model: openai-gpt, QID: 6, Rank: 1, Answer: answer, Timestamp: 2023-07-31 11:21:39.985326\n"
     ]
    }
   ],
   "source": [
    "c_db.insert(model=\"openai-gpt\", qid=6, rank=1, answer=\"answer\")"
   ]
  },
  {
   "cell_type": "code",
   "execution_count": 9,
   "metadata": {},
   "outputs": [
    {
     "data": {
      "text/plain": [
       "[(1, 'openai-gpt', 6, 1, 'answer', '2023-07-31 11:21:39.985326')]"
      ]
     },
     "execution_count": 9,
     "metadata": {},
     "output_type": "execute_result"
    }
   ],
   "source": [
    "c_db.retrieve_all()"
   ]
  },
  {
   "cell_type": "code",
   "execution_count": 10,
   "metadata": {},
   "outputs": [
    {
     "name": "stdout",
     "output_type": "stream",
     "text": [
      "Table contents after updating table\n",
      "ID: 1, Model: openai-gpt, QID: 6, Rank: 1, Answer: answer, Timestamp: 2023-07-31 11:21:39.985326\n"
     ]
    }
   ],
   "source": [
    "c_db.update(model=\"openai-gpt\", qid=4, rank=100)"
   ]
  },
  {
   "cell_type": "code",
   "execution_count": 11,
   "metadata": {},
   "outputs": [],
   "source": [
    "c_db.close_connection()"
   ]
  }
 ],
 "metadata": {
  "kernelspec": {
   "display_name": "peel",
   "language": "python",
   "name": "python3"
  },
  "language_info": {
   "codemirror_mode": {
    "name": "ipython",
    "version": 3
   },
   "file_extension": ".py",
   "mimetype": "text/x-python",
   "name": "python",
   "nbconvert_exporter": "python",
   "pygments_lexer": "ipython3",
   "version": "3.10.12"
  },
  "orig_nbformat": 4
 },
 "nbformat": 4,
 "nbformat_minor": 2
}
