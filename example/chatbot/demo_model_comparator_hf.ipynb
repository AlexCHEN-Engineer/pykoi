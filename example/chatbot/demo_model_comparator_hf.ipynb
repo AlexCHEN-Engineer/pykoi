{
 "cells": [
  {
   "cell_type": "code",
   "execution_count": 1,
   "metadata": {},
   "outputs": [
    {
     "name": "stdout",
     "output_type": "stream",
     "text": [
      "/home/ec2-user/SageMaker/pykoi\n"
     ]
    }
   ],
   "source": [
    "%reload_ext autoreload\n",
    "%autoreload 2\n",
    "\n",
    "import os\n",
    "import sys\n",
    "\n",
    "# Add the root folder to the module search path\n",
    "# Get the current directory\n",
    "current_directory = os.getcwd()\n",
    "\n",
    "# Move two levels up (go to the parent directory of the parent directory)\n",
    "two_levels_up_directory = os.path.dirname(os.path.dirname(current_directory))\n",
    "\n",
    "print(two_levels_up_directory)\n",
    "\n",
    "sys.path.append(two_levels_up_directory)"
   ]
  },
  {
   "cell_type": "code",
   "execution_count": null,
   "metadata": {
    "scrolled": true
   },
   "outputs": [],
   "source": [
    "import pykoi"
   ]
  },
  {
   "cell_type": "markdown",
   "metadata": {},
   "source": [
    "# Demo: LLMs Comparison\n",
    "\n",
    "`pykoi` provides simple API to compare between LLMs, including your own finetuned LLM, a pretrained LLM from huggingface, or OpenAI/Anthropic/Bedrock APIs.\n",
    "\n",
    "This demo shows how to create and launch an LLM comparison app. Let's get started!\n",
    "\n",
    "## Load LLMs\n",
    "\n"
   ]
  },
  {
   "cell_type": "markdown",
   "metadata": {},
   "source": [
    "#### Creating a Huggingface model (requires at least EC2 `g4.2xlarge` or GPU with 16G memory)"
   ]
  },
  {
   "cell_type": "code",
   "execution_count": null,
   "metadata": {},
   "outputs": [],
   "source": [
    "## requires a GPU with at least 16GB memory (e.g. g4.2xlarge)\n",
    "huggingface_model_1 = pykoi.ModelFactory.create_model(\n",
    "    model_source=\"huggingface\",\n",
    "    pretrained_model_name_or_path=\"tiiuae/falcon-rw-1b\",\n",
    ")"
   ]
  },
  {
   "cell_type": "code",
   "execution_count": null,
   "metadata": {},
   "outputs": [],
   "source": [
    "## requires a GPU with at least 16GB memory (e.g. g4.2xlarge)\n",
    "huggingface_model_2 = pykoi.ModelFactory.create_model(\n",
    "    model_source=\"huggingface\",\n",
    "    pretrained_model_name_or_path=\"databricks/dolly-v2-3b\",\n",
    ")"
   ]
  },
  {
   "cell_type": "code",
   "execution_count": null,
   "metadata": {},
   "outputs": [],
   "source": [
    "## requires a GPU with at least 24GB memory (e.g. g5.2xlarge)\n",
    "huggingface_model_3 = pykoi.ModelFactory.create_model(\n",
    "    model_source=\"huggingface\",\n",
    "    pretrained_model_name_or_path=\"tiiuae/falcon-7b\",\n",
    ")"
   ]
  },
  {
   "cell_type": "markdown",
   "metadata": {},
   "source": [
    "## Create a chatbot comparator\n",
    "\n",
    "### Add `nest_asyncio`  (TODO: change to bash file)"
   ]
  },
  {
   "cell_type": "code",
   "execution_count": null,
   "metadata": {},
   "outputs": [],
   "source": [
    "# !pip install -q nest_asyncio\n",
    "import nest_asyncio\n",
    "\n",
    "nest_asyncio.apply()"
   ]
  },
  {
   "cell_type": "code",
   "execution_count": null,
   "metadata": {},
   "outputs": [],
   "source": [
    "# pass in a list of models to compare\n",
    "chatbot_comparator = pykoi.Compare(models=[huggingface_model_1, huggingface_model_2, huggingface_model_3])\n",
    "# chatbot_comparator.add(openai_model_3)"
   ]
  },
  {
   "cell_type": "markdown",
   "metadata": {},
   "source": [
    "### Add ngrok auth (TODO: change to bash file)"
   ]
  },
  {
   "cell_type": "code",
   "execution_count": null,
   "metadata": {},
   "outputs": [],
   "source": [
    "# !ngrok config add-authtoken xxxxxxxx"
   ]
  },
  {
   "cell_type": "code",
   "execution_count": null,
   "metadata": {},
   "outputs": [],
   "source": [
    "app = pykoi.Application(debug=False, share=True, username=\"rachel\", password=\"rachel\")\n",
    "app.add_component(chatbot_comparator)\n",
    "app.run()"
   ]
  },
  {
   "cell_type": "markdown",
   "metadata": {},
   "source": []
  },
  {
   "cell_type": "code",
   "execution_count": null,
   "metadata": {},
   "outputs": [],
   "source": []
  },
  {
   "cell_type": "markdown",
   "metadata": {},
   "source": [
    "```\n",
    "ssh -N -L 8000:localhost:8888 ec2-user@34.209.105.222 -i <path_to_your_key.pem>\n",
    "```"
   ]
  },
  {
   "cell_type": "code",
   "execution_count": null,
   "metadata": {},
   "outputs": [],
   "source": []
  }
 ],
 "metadata": {
  "kernelspec": {
   "display_name": "pykoi",
   "language": "python",
   "name": "0731a"
  },
  "language_info": {
   "codemirror_mode": {
    "name": "ipython",
    "version": 3
   },
   "file_extension": ".py",
   "mimetype": "text/x-python",
   "name": "python",
   "nbconvert_exporter": "python",
   "pygments_lexer": "ipython3",
   "version": "3.10.12"
  }
 },
 "nbformat": 4,
 "nbformat_minor": 2
}
