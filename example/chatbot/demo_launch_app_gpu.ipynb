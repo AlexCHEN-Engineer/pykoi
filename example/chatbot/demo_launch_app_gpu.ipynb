{
 "cells": [
  {
   "cell_type": "code",
   "execution_count": 1,
   "metadata": {},
   "outputs": [
    {
     "name": "stdout",
     "output_type": "stream",
     "text": [
      "/home/ec2-user/SageMaker/pykoi\n"
     ]
    }
   ],
   "source": [
    "%reload_ext autoreload\n",
    "%autoreload 2\n",
    "\n",
    "import os\n",
    "import sys\n",
    "\n",
    "# Add the root folder to the module search path\n",
    "# Get the current directory\n",
    "current_directory = os.getcwd()\n",
    "\n",
    "# Move two levels up (go to the parent directory of the parent directory)\n",
    "two_levels_up_directory = os.path.dirname(os.path.dirname(current_directory))\n",
    "\n",
    "print(two_levels_up_directory)\n",
    "\n",
    "sys.path.append(two_levels_up_directory)"
   ]
  },
  {
   "cell_type": "code",
   "execution_count": 2,
   "metadata": {},
   "outputs": [
    {
     "name": "stderr",
     "output_type": "stream",
     "text": [
      "/home/ec2-user/anaconda3/envs/0731a/lib/python3.10/site-packages/tqdm/auto.py:21: TqdmWarning: IProgress not found. Please update jupyter and ipywidgets. See https://ipywidgets.readthedocs.io/en/stable/user_install.html\n",
      "  from .autonotebook import tqdm as notebook_tqdm\n"
     ]
    }
   ],
   "source": [
    "## pip install ipykernel\n",
    "import pykoi"
   ]
  },
  {
   "cell_type": "markdown",
   "metadata": {},
   "source": [
    "### Define a database, model and chatbot\n",
    "\n",
    "To a launch a pykoi App, you only need to customize 3 components: a model, a database and a chatbot. Let's try it out!"
   ]
  },
  {
   "cell_type": "code",
   "execution_count": 3,
   "metadata": {},
   "outputs": [],
   "source": [
    "qa_database = pykoi.QuestionAnswerDatabase()"
   ]
  },
  {
   "cell_type": "code",
   "execution_count": 4,
   "metadata": {},
   "outputs": [
    {
     "name": "stdout",
     "output_type": "stream",
     "text": [
      "[HuggingfaceModel] loading model...\n"
     ]
    },
    {
     "name": "stderr",
     "output_type": "stream",
     "text": [
      "Loading checkpoint shards: 100%|██████████| 2/2 [00:23<00:00, 11.75s/it]\n"
     ]
    },
    {
     "name": "stdout",
     "output_type": "stream",
     "text": [
      "[HuggingfaceModel] loading tokenizer...\n"
     ]
    }
   ],
   "source": [
    "model = pykoi.ModelFactory.create_model(\n",
    "    model_source=\"huggingface\", \n",
    "    pretrained_model_name_or_path=\"tiiuae/falcon-7b\",\n",
    "    trust_remote_code=True, ## TODO: set as default\n",
    "    load_in_8bit=True\n",
    "    )"
   ]
  },
  {
   "cell_type": "code",
   "execution_count": 5,
   "metadata": {},
   "outputs": [],
   "source": [
    "chatbot = pykoi.Chatbot(model=model, feedback=\"vote\")"
   ]
  },
  {
   "cell_type": "markdown",
   "metadata": {},
   "source": [
    "### Launch the App\n",
    "\n",
    "Now we can launch the chatbot using the model and database. Once you run the below line, you will see a Tunnel link which ends with `ngrok-free.app`. Click this link and you can see the below interface:\n",
    "\n",
    "<p align=\"center\">\n",
    "    <img src=\"../image/chatbot_vote_trim_4x_crop.gif\" width=\"75%\" height=\"75%\" />\n",
    "</p>\n",
    "\n",
    "\n",
    "\n",
    "You may need to set a ngrok token (one time) by uncomment the below line, add your [personal ngrok token](https://dashboard.ngrok.com/get-started/your-authtoken) and run this `ngrok config` line."
   ]
  },
  {
   "cell_type": "code",
   "execution_count": 6,
   "metadata": {},
   "outputs": [],
   "source": [
    "# !ngrok config add-authtoken xxx"
   ]
  },
  {
   "cell_type": "markdown",
   "metadata": {},
   "source": [
    "### Add `nest_asyncio` \n",
    "Add `nest_asyncio` to avoid error such as `asyncio.run() cannot be called from a running event loop`. Since we're running another interface inside a Jupyter notebook where an asyncio event loop is already running, we'll encounter the error. (since The uvicorn.run() function uses asyncio.run(), which isn't compatible with a running event loop.)"
   ]
  },
  {
   "cell_type": "code",
   "execution_count": 8,
   "metadata": {},
   "outputs": [],
   "source": [
    "# !pip install -q nest_asyncio\n",
    "import nest_asyncio\n",
    "nest_asyncio.apply()"
   ]
  },
  {
   "cell_type": "code",
   "execution_count": 9,
   "metadata": {},
   "outputs": [
    {
     "name": "stderr",
     "output_type": "stream",
     "text": [
      "t=2023-08-01T04:26:32+0000 lvl=warn msg=\"ngrok config file found at legacy location, move to XDG location\" xdg_path=/home/ec2-user/.config/ngrok/ngrok.yml legacy_path=/home/ec2-user/.ngrok2/ngrok.yml\n"
     ]
    },
    {
     "name": "stdout",
     "output_type": "stream",
     "text": [
      "Public URL: NgrokTunnel: \"https://d7cd-34-209-105-222.ngrok-free.app\" -> \"http://localhost:34349\"\n"
     ]
    },
    {
     "name": "stderr",
     "output_type": "stream",
     "text": [
      "INFO:     Started server process [21474]\n",
      "INFO:     Waiting for application startup.\n",
      "INFO:     Application startup complete.\n",
      "INFO:     Uvicorn running on http://127.0.0.1:34349 (Press CTRL+C to quit)\n"
     ]
    },
    {
     "name": "stdout",
     "output_type": "stream",
     "text": [
      "INFO:     76.21.76.39:0 - \"GET / HTTP/1.1\" 200 OK\n",
      "INFO:     76.21.76.39:0 - \"GET /assets/index-fc1a91e8.js HTTP/1.1\" 200 OK\n",
      "INFO:     76.21.76.39:0 - \"GET /assets/index-f75c1c12.css HTTP/1.1\" 200 OK\n",
      "INFO:     76.21.76.39:0 - \"GET /components HTTP/1.1\" 200 OK\n",
      "INFO:     76.21.76.39:0 - \"GET /vite.svg HTTP/1.1\" 200 OK\n",
      "INFO:     76.21.76.39:0 - \"GET /chat/qa_table/retrieve HTTP/1.1\" 404 Not Found\n"
     ]
    },
    {
     "name": "stderr",
     "output_type": "stream",
     "text": [
      "INFO:     Shutting down\n",
      "INFO:     Waiting for application shutdown.\n",
      "INFO:     Application shutdown complete.\n",
      "INFO:     Finished server process [21474]\n"
     ]
    },
    {
     "name": "stdout",
     "output_type": "stream",
     "text": [
      "Stopping server...\n"
     ]
    }
   ],
   "source": [
    "app = pykoi.Application(debug=False, share=True)\n",
    "app.add_component(chatbot)\n",
    "app.run()"
   ]
  },
  {
   "cell_type": "markdown",
   "metadata": {},
   "source": [
    "### Visualize your data\n",
    "\n",
    "Once you collect enough data via the chatbot app above, you can visualize your data via the dashboard."
   ]
  },
  {
   "cell_type": "code",
   "execution_count": 10,
   "metadata": {},
   "outputs": [],
   "source": [
    "qa_dashboard = pykoi.Dashboard(database=qa_database)"
   ]
  },
  {
   "cell_type": "code",
   "execution_count": 11,
   "metadata": {},
   "outputs": [
    {
     "name": "stderr",
     "output_type": "stream",
     "text": [
      "t=2023-08-01T04:27:23+0000 lvl=warn msg=\"ngrok config file found at legacy location, move to XDG location\" xdg_path=/home/ec2-user/.config/ngrok/ngrok.yml legacy_path=/home/ec2-user/.ngrok2/ngrok.yml\n"
     ]
    },
    {
     "name": "stdout",
     "output_type": "stream",
     "text": [
      "Public URL: NgrokTunnel: \"https://82f5-34-209-105-222.ngrok-free.app\" -> \"http://localhost:37933\"\n"
     ]
    },
    {
     "name": "stderr",
     "output_type": "stream",
     "text": [
      "INFO:     Started server process [21474]\n",
      "INFO:     Waiting for application startup.\n",
      "INFO:     Application startup complete.\n",
      "INFO:     Uvicorn running on http://127.0.0.1:37933 (Press CTRL+C to quit)\n"
     ]
    },
    {
     "name": "stdout",
     "output_type": "stream",
     "text": [
      "INFO:     76.21.76.39:0 - \"GET / HTTP/1.1\" 200 OK\n",
      "INFO:     76.21.76.39:0 - \"GET /assets/index-fc1a91e8.js HTTP/1.1\" 200 OK\n",
      "INFO:     76.21.76.39:0 - \"GET /assets/index-f75c1c12.css HTTP/1.1\" 200 OK\n",
      "INFO:     76.21.76.39:0 - \"GET /components HTTP/1.1\" 200 OK\n",
      "INFO:     76.21.76.39:0 - \"GET /vite.svg HTTP/1.1\" 200 OK\n",
      "INFO:     76.21.76.39:0 - \"GET /chat/qa_table/retrieve HTTP/1.1\" 200 OK\n",
      "INFO:     76.21.76.39:0 - \"GET /chat/qa_table/retrieve HTTP/1.1\" 200 OK\n",
      "INFO:     76.21.76.39:0 - \"GET /chat/qa_table/retrieve HTTP/1.1\" 200 OK\n",
      "INFO:     76.21.76.39:0 - \"GET /chat/qa_table/retrieve HTTP/1.1\" 200 OK\n"
     ]
    },
    {
     "name": "stderr",
     "output_type": "stream",
     "text": [
      "INFO:     Shutting down\n",
      "INFO:     Waiting for application shutdown.\n",
      "INFO:     Application shutdown complete.\n",
      "INFO:     Finished server process [21474]\n"
     ]
    },
    {
     "name": "stdout",
     "output_type": "stream",
     "text": [
      "Stopping server...\n"
     ]
    }
   ],
   "source": [
    "app = pykoi.Application(debug=False, share=True)\n",
    "app.add_component(chatbot)\n",
    "app.add_component(qa_dashboard)\n",
    "app.run()\n"
   ]
  },
  {
   "cell_type": "markdown",
   "metadata": {},
   "source": [
    "You will only see one localhost link after you run the `app.run()` below. If you are on EC2 or a remote server, you can tunnel it back to your laptop via the following options:\n",
    "\n",
    "- If you are using VSCode, check [tunnel using VSCode](https://code.visualstudio.com/docs/remote/ssh#_forwarding-a-port-creating-ssh-tunnel);\n",
    "- [Directly config via EC2](https://www.opensourceforu.com/2021/09/how-to-do-reverse-tunnelling-with-the-amazon-ec2-instance/)"
   ]
  },
  {
   "cell_type": "markdown",
   "metadata": {},
   "source": [
    "Now we can launch the dashboard. Click this above link and you can see the below interface:\n",
    "\n",
    "<p align=\"center\">\n",
    "    <img src=\"../image/chatbot_dashboard_trim_2x.gif\" width=\"75%\" height=\"75%\" />\n",
    "</p>"
   ]
  },
  {
   "cell_type": "code",
   "execution_count": null,
   "metadata": {},
   "outputs": [],
   "source": []
  }
 ],
 "metadata": {
  "kernelspec": {
   "display_name": "pykoi",
   "language": "python",
   "name": "0731a"
  },
  "language_info": {
   "codemirror_mode": {
    "name": "ipython",
    "version": 3
   },
   "file_extension": ".py",
   "mimetype": "text/x-python",
   "name": "python",
   "nbconvert_exporter": "python",
   "pygments_lexer": "ipython3",
   "version": "3.10.12"
  }
 },
 "nbformat": 4,
 "nbformat_minor": 2
}
