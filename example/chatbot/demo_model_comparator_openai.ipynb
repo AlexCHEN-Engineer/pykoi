{
 "cells": [
  {
   "cell_type": "code",
   "execution_count": 1,
   "metadata": {},
   "outputs": [
    {
     "name": "stdout",
     "output_type": "stream",
     "text": [
      "/home/ec2-user/SageMaker/pykoi\n"
     ]
    }
   ],
   "source": [
    "# %reload_ext autoreload\n",
    "# %autoreload 2\n",
    "\n",
    "# import os\n",
    "# import sys\n",
    "\n",
    "# # Add the root folder to the module search path\n",
    "# # Get the current directory\n",
    "# current_directory = os.getcwd()\n",
    "\n",
    "# # Move two levels up (go to the parent directory of the parent directory)\n",
    "# two_levels_up_directory = os.path.dirname(os.path.dirname(current_directory))\n",
    "\n",
    "# print(two_levels_up_directory)\n",
    "\n",
    "# sys.path.append(two_levels_up_directory)"
   ]
  },
  {
   "cell_type": "code",
   "execution_count": 2,
   "metadata": {},
   "outputs": [
    {
     "name": "stderr",
     "output_type": "stream",
     "text": [
      "/home/ec2-user/anaconda3/envs/0731a/lib/python3.10/site-packages/tqdm/auto.py:21: TqdmWarning: IProgress not found. Please update jupyter and ipywidgets. See https://ipywidgets.readthedocs.io/en/stable/user_install.html\n",
      "  from .autonotebook import tqdm as notebook_tqdm\n"
     ]
    }
   ],
   "source": [
    "import pykoi"
   ]
  },
  {
   "cell_type": "markdown",
   "metadata": {},
   "source": [
    "# Demo: LLMs Comparison\n",
    "\n",
    "`pykoi` provides simple API to compare between LLMs, including your own finetuned LLM, a pretrained LLM from huggingface, or OpenAI/Anthropic/Bedrock APIs.\n",
    "\n",
    "This demo shows how to create and launch an LLM comparison app. Let's get started!\n",
    "\n",
    "## Load LLMs\n",
    "\n",
    "#### 1. Creating an OpenAI model (requires an OpenAI API key)"
   ]
  },
  {
   "cell_type": "code",
   "execution_count": 3,
   "metadata": {},
   "outputs": [],
   "source": [
    "# enter openai api key here\n",
    "api_key = \"\"\n",
    "\n",
    "# Creating an OpenAI model\n",
    "openai_model_1 = pykoi.ModelFactory.create_model(\n",
    "    model_source=\"openai\", api_key=api_key, engine=\"babbage\"\n",
    ")\n",
    "openai_model_2 = pykoi.ModelFactory.create_model(\n",
    "    model_source=\"openai\", api_key=api_key, engine=\"curie\"\n",
    ")\n",
    "openai_model_3 = pykoi.ModelFactory.create_model(\n",
    "    model_source=\"openai\", api_key=api_key, engine=\"davinci\"\n",
    ")"
   ]
  },
  {
   "cell_type": "markdown",
   "metadata": {},
   "source": [
    "## Create a chatbot comparator\n"
   ]
  },
  {
   "cell_type": "code",
   "execution_count": 5,
   "metadata": {},
   "outputs": [],
   "source": [
    "# pass in a list of models to compare\n",
    "chatbot_comparator = pykoi.Compare(models=[openai_model_1, openai_model_2])\n",
    "chatbot_comparator.add(openai_model_3)"
   ]
  },
  {
   "cell_type": "markdown",
   "metadata": {},
   "source": [
    "### Add `nest_asyncio` \n",
    "Add `nest_asyncio` to avoid error. Since we're running another interface inside a Jupyter notebook where an asyncio event loop is already running, we'll encounter the error. (since The uvicorn.run() function uses asyncio.run(), which isn't compatible with a running event loop.)"
   ]
  },
  {
   "cell_type": "code",
   "execution_count": 4,
   "metadata": {},
   "outputs": [],
   "source": [
    "# !pip install -q nest_asyncio\n",
    "import nest_asyncio\n",
    "nest_asyncio.apply()"
   ]
  },
  {
   "cell_type": "code",
   "execution_count": 6,
   "metadata": {},
   "outputs": [
    {
     "name": "stderr",
     "output_type": "stream",
     "text": [
      "t=2023-08-01T04:09:42+0000 lvl=warn msg=\"ngrok config file found at legacy location, move to XDG location\" xdg_path=/home/ec2-user/.config/ngrok/ngrok.yml legacy_path=/home/ec2-user/.ngrok2/ngrok.yml\n",
      "t=2023-08-01T04:09:42+0000 lvl=warn msg=\"can't bind default web address, trying alternatives\" obj=web addr=127.0.0.1:4040\n",
      "INFO:     Started server process [9949]\n",
      "INFO:     Waiting for application startup.\n",
      "INFO:     Application startup complete.\n",
      "INFO:     Uvicorn running on http://127.0.0.1:51117 (Press CTRL+C to quit)\n"
     ]
    },
    {
     "name": "stdout",
     "output_type": "stream",
     "text": [
      "Public URL: NgrokTunnel: \"https://9173-34-209-105-222.ngrok-free.app\" -> \"http://localhost:51117\"\n",
      "INFO:     76.21.76.39:0 - \"GET / HTTP/1.1\" 200 OK\n",
      "INFO:     76.21.76.39:0 - \"GET /assets/index-fc1a91e8.js HTTP/1.1\" 200 OK\n",
      "INFO:     76.21.76.39:0 - \"GET /assets/index-f75c1c12.css HTTP/1.1\" 200 OK\n",
      "INFO:     76.21.76.39:0 - \"GET /components HTTP/1.1\" 200 OK\n",
      "INFO:     76.21.76.39:0 - \"GET /vite.svg HTTP/1.1\" 200 OK\n",
      "INFO:     76.21.76.39:0 - \"POST /chat/comparator/who%20are%20the%20founders%20of%20YC HTTP/1.1\" 200 OK\n"
     ]
    },
    {
     "name": "stderr",
     "output_type": "stream",
     "text": [
      "INFO:     Shutting down\n",
      "INFO:     Waiting for application shutdown.\n",
      "INFO:     Application shutdown complete.\n",
      "INFO:     Finished server process [9949]\n"
     ]
    },
    {
     "name": "stdout",
     "output_type": "stream",
     "text": [
      "Stopping server...\n"
     ]
    }
   ],
   "source": [
    "app = pykoi.Application(debug=False, share=True)\n",
    "app.add_component(chatbot_comparator)\n",
    "app.run()"
   ]
  },
  {
   "cell_type": "markdown",
   "metadata": {},
   "source": [
    "Now we can launch the ranking chatbot. Click this above link and you can similar interface:\n",
    "\n",
    "<p align=\"center\">\n",
    "    <img src=\"../image/drag_and_rank_crop_2x.gif\" width=\"75%\" height=\"75%\" />\n",
    "</p>\n",
    "\n",
    "\n",
    "\n",
    "You can also check the dashboard for your ranking of the model answers:\n",
    "\n",
    "<p align=\"center\">\n",
    "    <img src=\"../image/comparisonDemoSmall_2x.gif\" width=\"75%\" height=\"75%\" />\n",
    "</p>"
   ]
  },
  {
   "cell_type": "code",
   "execution_count": null,
   "metadata": {},
   "outputs": [],
   "source": []
  }
 ],
 "metadata": {
  "kernelspec": {
   "display_name": "pykoi",
   "language": "python",
   "name": "0731a"
  },
  "language_info": {
   "codemirror_mode": {
    "name": "ipython",
    "version": 3
   },
   "file_extension": ".py",
   "mimetype": "text/x-python",
   "name": "python",
   "nbconvert_exporter": "python",
   "pygments_lexer": "ipython3",
   "version": "3.10.12"
  }
 },
 "nbformat": 4,
 "nbformat_minor": 2
}
