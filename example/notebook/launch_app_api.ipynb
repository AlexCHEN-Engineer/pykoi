{
 "cells": [
  {
   "cell_type": "code",
   "execution_count": 1,
   "metadata": {},
   "outputs": [
    {
     "name": "stderr",
     "output_type": "stream",
     "text": [
      "/opt/conda/envs/pykoi/lib/python3.10/site-packages/tqdm/auto.py:21: TqdmWarning: IProgress not found. Please update jupyter and ipywidgets. See https://ipywidgets.readthedocs.io/en/stable/user_install.html\n",
      "  from .autonotebook import tqdm as notebook_tqdm\n"
     ]
    }
   ],
   "source": [
    "## pip install ipykernel\n",
    "import pykoi"
   ]
  },
  {
   "cell_type": "markdown",
   "metadata": {},
   "source": [
    "### Creating an OpenAI model (requires an OpenAI API key)"
   ]
  },
  {
   "cell_type": "code",
   "execution_count": 2,
   "metadata": {},
   "outputs": [],
   "source": [
    "# enter openai api key here (one time)\n",
    "api_key = \"\""
   ]
  },
  {
   "cell_type": "code",
   "execution_count": 3,
   "metadata": {},
   "outputs": [],
   "source": [
    "model = pykoi.ModelFactory.create_model(\n",
    "    model_source=\"openai\",\n",
    "    api_key=api_key)"
   ]
  },
  {
   "cell_type": "markdown",
   "metadata": {},
   "source": [
    "### Define a database, model and chatbot\n",
    "\n",
    "To a launch a pykoi App, you only need to customize 3 components: a model, a database and a chatbot. Let's try it out!"
   ]
  },
  {
   "cell_type": "code",
   "execution_count": 4,
   "metadata": {},
   "outputs": [],
   "source": [
    "qa_database = pykoi.QuestionAnswerDatabase()"
   ]
  },
  {
   "cell_type": "code",
   "execution_count": 5,
   "metadata": {},
   "outputs": [],
   "source": [
    "chatbot = pykoi.Chatbot(model=model, feedback=\"vote\")"
   ]
  },
  {
   "cell_type": "markdown",
   "metadata": {},
   "source": [
    "### Launch the App\n",
    "\n",
    "Now we can launch the chatbot using the model and database. Once you run the below line, you will see a Tunnel link which ends with `ngrok-free.app`. Click this link and you can see the below interface:\n",
    "\n",
    "<p align=\"center\">\n",
    "    <img src=\"image/chatbot_rank.png\" width=\"75%\" height=\"75%\" />\n",
    "</p>\n",
    "\n",
    "\n",
    "\n",
    "You may need to set a ngrok token (one time) by uncomment the below line, add your [personal ngrok token](https://dashboard.ngrok.com/get-started/your-authtoken) and run this `ngrok config` line."
   ]
  },
  {
   "cell_type": "code",
   "execution_count": 8,
   "metadata": {},
   "outputs": [
    {
     "name": "stdout",
     "output_type": "stream",
     "text": [
      "Authtoken saved to configuration file: /home/ubuntu/.ngrok2/ngrok.yml\n"
     ]
    }
   ],
   "source": [
    "# !ngrok config add-authtoken xxx\n"
   ]
  },
  {
   "cell_type": "code",
   "execution_count": 10,
   "metadata": {},
   "outputs": [
    {
     "name": "stderr",
     "output_type": "stream",
     "text": [
      "t=2023-07-27T18:38:20+0000 lvl=warn msg=\"ngrok config file found at legacy location, move to XDG location\" xdg_path=/home/ubuntu/.config/ngrok/ngrok.yml legacy_path=/home/ubuntu/.ngrok2/ngrok.yml\n"
     ]
    },
    {
     "name": "stderr",
     "output_type": "stream",
     "text": [
      "t=2023-07-27T18:38:20+0000 lvl=eror msg=\"failed to reconnect session\" obj=tunnels.session obj=csess id=714eb40f5603 err=\"authentication failed: Your account is limited to 1 simultaneous ngrok agent session.\\nYou can run multiple tunnels on a single agent session using a configuration file.\\nTo learn more, see https://ngrok.com/docs/ngrok-agent/config/\\n\\nActive ngrok agent sessions in region 'us':\\n  - ts_2TAI2XwcMXzv7uz2hbKAdkeR1ht (174.61.231.218)\\r\\n\\r\\nERR_NGROK_108\\r\\n\"\n",
      "\n",
      "ERROR:  authentication failed: Your account is limited to 1 simultaneous ngrok agent session.\n",
      "ERROR:  You can run multiple tunnels on a single agent session using a configuration file.\n",
      "ERROR:  To learn more, see https://ngrok.com/docs/ngrok-agent/config/\n",
      "ERROR:  \n",
      "ERROR:  Active ngrok agent sessions in region 'us':\n",
      "ERROR:    - ts_2TAI2XwcMXzv7uz2hbKAdkeR1ht (174.61.231.218)\n",
      "ERROR:  \n",
      "ERROR:  ERR_NGROK_108\n",
      "ERROR:  \n",
      "t=2023-07-27T18:38:20+0000 lvl=eror msg=\"session closing\" obj=tunnels.session err=\"authentication failed: Your account is limited to 1 simultaneous ngrok agent session.\\nYou can run multiple tunnels on a single agent session using a configuration file.\\nTo learn more, see https://ngrok.com/docs/ngrok-agent/config/\\n\\nActive ngrok agent sessions in region 'us':\\n  - ts_2TAI2XwcMXzv7uz2hbKAdkeR1ht (174.61.231.218)\\r\\n\\r\\nERR_NGROK_108\\r\\n\"\n"
     ]
    },
    {
     "ename": "PyngrokNgrokError",
     "evalue": "The ngrok process errored on start: authentication failed: Your account is limited to 1 simultaneous ngrok agent session.\\nYou can run multiple tunnels on a single agent session using a configuration file.\\nTo learn more, see https://ngrok.com/docs/ngrok-agent/config/\\n\\nActive ngrok agent sessions in region 'us':\\n  - ts_2TAI2XwcMXzv7uz2hbKAdkeR1ht (174.61.231.218)\\r\\n\\r\\nERR_NGROK_108\\r\\n.",
     "output_type": "error",
     "traceback": [
      "\u001b[0;31m---------------------------------------------------------------------------\u001b[0m",
      "\u001b[0;31mPyngrokNgrokError\u001b[0m                         Traceback (most recent call last)",
      "Cell \u001b[0;32mIn[10], line 3\u001b[0m\n\u001b[1;32m      1\u001b[0m app \u001b[39m=\u001b[39m pykoi\u001b[39m.\u001b[39mApplication(debug\u001b[39m=\u001b[39m\u001b[39mFalse\u001b[39;00m, share\u001b[39m=\u001b[39m\u001b[39mTrue\u001b[39;00m)\n\u001b[1;32m      2\u001b[0m app\u001b[39m.\u001b[39madd_component(chatbot)\n\u001b[0;32m----> 3\u001b[0m app\u001b[39m.\u001b[39;49mrun()\n",
      "File \u001b[0;32m~/git/pykoi/pykoi/application.py:267\u001b[0m, in \u001b[0;36mApplication.run\u001b[0;34m(self)\u001b[0m\n\u001b[1;32m    265\u001b[0m \u001b[39mif\u001b[39;00m \u001b[39mself\u001b[39m\u001b[39m.\u001b[39m_share:\n\u001b[1;32m    266\u001b[0m     port \u001b[39m=\u001b[39m find_free_port()\n\u001b[0;32m--> 267\u001b[0m     public_url \u001b[39m=\u001b[39m ngrok\u001b[39m.\u001b[39;49mconnect(port)\n\u001b[1;32m    268\u001b[0m     \u001b[39mprint\u001b[39m(\u001b[39m\"\u001b[39m\u001b[39mPublic URL:\u001b[39m\u001b[39m\"\u001b[39m, public_url)\n\u001b[1;32m    269\u001b[0m     app\u001b[39m.\u001b[39mrun(port\u001b[39m=\u001b[39mport, debug\u001b[39m=\u001b[39m\u001b[39mself\u001b[39m\u001b[39m.\u001b[39m_debug)\n",
      "File \u001b[0;32m/opt/conda/envs/pykoi/lib/python3.10/site-packages/pyngrok/ngrok.py:277\u001b[0m, in \u001b[0;36mconnect\u001b[0;34m(addr, proto, name, pyngrok_config, **options)\u001b[0m\n\u001b[1;32m    273\u001b[0m             options[\u001b[39m\"\u001b[39m\u001b[39mbasic_auth\u001b[39m\u001b[39m\"\u001b[39m] \u001b[39m=\u001b[39m [auth]\n\u001b[1;32m    275\u001b[0m         options\u001b[39m.\u001b[39mpop(\u001b[39m\"\u001b[39m\u001b[39mauth\u001b[39m\u001b[39m\"\u001b[39m)\n\u001b[0;32m--> 277\u001b[0m api_url \u001b[39m=\u001b[39m get_ngrok_process(pyngrok_config)\u001b[39m.\u001b[39mapi_url\n\u001b[1;32m    279\u001b[0m logger\u001b[39m.\u001b[39mdebug(\u001b[39m\"\u001b[39m\u001b[39mCreating tunnel with options: \u001b[39m\u001b[39m{}\u001b[39;00m\u001b[39m\"\u001b[39m\u001b[39m.\u001b[39mformat(options))\n\u001b[1;32m    281\u001b[0m tunnel \u001b[39m=\u001b[39m NgrokTunnel(api_request(\u001b[39m\"\u001b[39m\u001b[39m{}\u001b[39;00m\u001b[39m/api/tunnels\u001b[39m\u001b[39m\"\u001b[39m\u001b[39m.\u001b[39mformat(api_url), method\u001b[39m=\u001b[39m\u001b[39m\"\u001b[39m\u001b[39mPOST\u001b[39m\u001b[39m\"\u001b[39m, data\u001b[39m=\u001b[39moptions,\n\u001b[1;32m    282\u001b[0m                                  timeout\u001b[39m=\u001b[39mpyngrok_config\u001b[39m.\u001b[39mrequest_timeout),\n\u001b[1;32m    283\u001b[0m                      pyngrok_config, api_url)\n",
      "File \u001b[0;32m/opt/conda/envs/pykoi/lib/python3.10/site-packages/pyngrok/ngrok.py:164\u001b[0m, in \u001b[0;36mget_ngrok_process\u001b[0;34m(pyngrok_config)\u001b[0m\n\u001b[1;32m    160\u001b[0m     pyngrok_config \u001b[39m=\u001b[39m conf\u001b[39m.\u001b[39mget_default()\n\u001b[1;32m    162\u001b[0m install_ngrok(pyngrok_config)\n\u001b[0;32m--> 164\u001b[0m \u001b[39mreturn\u001b[39;00m process\u001b[39m.\u001b[39;49mget_process(pyngrok_config)\n",
      "File \u001b[0;32m/opt/conda/envs/pykoi/lib/python3.10/site-packages/pyngrok/process.py:303\u001b[0m, in \u001b[0;36mget_process\u001b[0;34m(pyngrok_config)\u001b[0m\n\u001b[1;32m    300\u001b[0m \u001b[39mif\u001b[39;00m is_process_running(pyngrok_config\u001b[39m.\u001b[39mngrok_path):\n\u001b[1;32m    301\u001b[0m     \u001b[39mreturn\u001b[39;00m _current_processes[pyngrok_config\u001b[39m.\u001b[39mngrok_path]\n\u001b[0;32m--> 303\u001b[0m \u001b[39mreturn\u001b[39;00m _start_process(pyngrok_config)\n",
      "File \u001b[0;32m/opt/conda/envs/pykoi/lib/python3.10/site-packages/pyngrok/process.py:472\u001b[0m, in \u001b[0;36m_start_process\u001b[0;34m(pyngrok_config)\u001b[0m\n\u001b[1;32m    469\u001b[0m kill_process(pyngrok_config\u001b[39m.\u001b[39mngrok_path)\n\u001b[1;32m    471\u001b[0m \u001b[39mif\u001b[39;00m ngrok_process\u001b[39m.\u001b[39mstartup_error \u001b[39mis\u001b[39;00m \u001b[39mnot\u001b[39;00m \u001b[39mNone\u001b[39;00m:\n\u001b[0;32m--> 472\u001b[0m     \u001b[39mraise\u001b[39;00m PyngrokNgrokError(\u001b[39m\"\u001b[39m\u001b[39mThe ngrok process errored on start: \u001b[39m\u001b[39m{}\u001b[39;00m\u001b[39m.\u001b[39m\u001b[39m\"\u001b[39m\u001b[39m.\u001b[39mformat(ngrok_process\u001b[39m.\u001b[39mstartup_error),\n\u001b[1;32m    473\u001b[0m                             ngrok_process\u001b[39m.\u001b[39mlogs,\n\u001b[1;32m    474\u001b[0m                             ngrok_process\u001b[39m.\u001b[39mstartup_error)\n\u001b[1;32m    475\u001b[0m \u001b[39melse\u001b[39;00m:\n\u001b[1;32m    476\u001b[0m     \u001b[39mraise\u001b[39;00m PyngrokNgrokError(\u001b[39m\"\u001b[39m\u001b[39mThe ngrok process was unable to start.\u001b[39m\u001b[39m\"\u001b[39m, ngrok_process\u001b[39m.\u001b[39mlogs)\n",
      "\u001b[0;31mPyngrokNgrokError\u001b[0m: The ngrok process errored on start: authentication failed: Your account is limited to 1 simultaneous ngrok agent session.\\nYou can run multiple tunnels on a single agent session using a configuration file.\\nTo learn more, see https://ngrok.com/docs/ngrok-agent/config/\\n\\nActive ngrok agent sessions in region 'us':\\n  - ts_2TAI2XwcMXzv7uz2hbKAdkeR1ht (174.61.231.218)\\r\\n\\r\\nERR_NGROK_108\\r\\n."
     ]
    }
   ],
   "source": [
    "app = pykoi.Application(debug=False, share=True)\n",
    "app.add_component(chatbot)\n",
    "app.run()"
   ]
  },
  {
   "cell_type": "markdown",
   "metadata": {},
   "source": [
    "### Visualize your data\n",
    "\n",
    "Once you collect enough data via the chatbot app above, you can visualize your data via the dashboard."
   ]
  },
  {
   "cell_type": "code",
   "execution_count": null,
   "metadata": {},
   "outputs": [],
   "source": [
    "qa_dashboard = pykoi.Dashboard(database=qa_database)"
   ]
  },
  {
   "cell_type": "code",
   "execution_count": null,
   "metadata": {},
   "outputs": [],
   "source": [
    "app = pykoi.Application(debug=False, share=False)\n",
    "app.add_component(chatbot)\n",
    "app.add_component(qa_dashboard)\n",
    "app.run()\n"
   ]
  },
  {
   "cell_type": "markdown",
   "metadata": {},
   "source": [
    "You will only see one localhost link after you run the `app.run()` below. If you are on EC2 or a remote server, you can tunnel it back to your laptop via the following options:\n",
    "\n",
    "- If you are using VSCode, check [tunnel using VSCode](https://code.visualstudio.com/docs/remote/ssh#_forwarding-a-port-creating-ssh-tunnel);\n",
    "- [Directly config via EC2](https://www.opensourceforu.com/2021/09/how-to-do-reverse-tunnelling-with-the-amazon-ec2-instance/)"
   ]
  }
 ],
 "metadata": {
  "kernelspec": {
   "display_name": "0721",
   "language": "python",
   "name": "python3"
  },
  "language_info": {
   "codemirror_mode": {
    "name": "ipython",
    "version": 3
   },
   "file_extension": ".py",
   "mimetype": "text/x-python",
   "name": "python",
   "nbconvert_exporter": "python",
   "pygments_lexer": "ipython3",
   "version": "3.10.12"
  },
  "orig_nbformat": 4
 },
 "nbformat": 4,
 "nbformat_minor": 2
}
