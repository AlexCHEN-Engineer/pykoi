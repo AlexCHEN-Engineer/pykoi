{
 "cells": [
  {
   "cell_type": "code",
   "execution_count": null,
   "metadata": {},
   "outputs": [],
   "source": []
  },
  {
   "cell_type": "markdown",
   "metadata": {},
   "source": [
    "### Train RLHF using the data from database\n",
    "\n",
    "Let's take a look of the QA data and process it for training."
   ]
  },
  {
   "cell_type": "code",
   "execution_count": null,
   "metadata": {},
   "outputs": [],
   "source": [
    "QA_CSV_HEADER_ID = 'ID'\n",
    "QA_CSV_HEADER_QUESTION = 'Question'\n",
    "QA_CSV_HEADER_ANSWER = 'Answer'\n",
    "QA_CSV_HEADER_VOTE_STATUS = 'Vote Status'\n",
    "QA_CSV_HEADER_TIMESTAMPS = 'Timestamp'\n",
    "QA_CSV_HEADER = (\n",
    "    QA_CSV_HEADER_ID,\n",
    "    QA_CSV_HEADER_QUESTION,\n",
    "    QA_CSV_HEADER_ANSWER,\n",
    "    QA_CSV_HEADER_VOTE_STATUS,\n",
    "    QA_CSV_HEADER_TIMESTAMPS\n",
    ")"
   ]
  },
  {
   "cell_type": "code",
   "execution_count": null,
   "metadata": {},
   "outputs": [
    {
     "data": {
      "text/html": [
       "<div>\n",
       "<style scoped>\n",
       "    .dataframe tbody tr th:only-of-type {\n",
       "        vertical-align: middle;\n",
       "    }\n",
       "\n",
       "    .dataframe tbody tr th {\n",
       "        vertical-align: top;\n",
       "    }\n",
       "\n",
       "    .dataframe thead th {\n",
       "        text-align: right;\n",
       "    }\n",
       "</style>\n",
       "<table border=\"1\" class=\"dataframe\">\n",
       "  <thead>\n",
       "    <tr style=\"text-align: right;\">\n",
       "      <th></th>\n",
       "      <th>ID</th>\n",
       "      <th>Question</th>\n",
       "      <th>Answer</th>\n",
       "      <th>Vote Status</th>\n",
       "      <th>Timestamp</th>\n",
       "    </tr>\n",
       "  </thead>\n",
       "  <tbody>\n",
       "    <tr>\n",
       "      <th>0</th>\n",
       "      <td>1</td>\n",
       "      <td>who founded YC and what does YC do</td>\n",
       "      <td>Y Combinator is a startup accelerator that pro...</td>\n",
       "      <td>up</td>\n",
       "      <td>2023-07-24 08:28:29.461045</td>\n",
       "    </tr>\n",
       "    <tr>\n",
       "      <th>1</th>\n",
       "      <td>2</td>\n",
       "      <td>what are the top YC companies</td>\n",
       "      <td>I am looking for a list of the top YC companie...</td>\n",
       "      <td>down</td>\n",
       "      <td>2023-07-24 08:29:17.521467</td>\n",
       "    </tr>\n",
       "    <tr>\n",
       "      <th>2</th>\n",
       "      <td>3</td>\n",
       "      <td>How much does top 10 YC companies worth</td>\n",
       "      <td>According to the latest Crunchbase data, the 1...</td>\n",
       "      <td>down</td>\n",
       "      <td>2023-07-24 08:29:58.248998</td>\n",
       "    </tr>\n",
       "    <tr>\n",
       "      <th>3</th>\n",
       "      <td>4</td>\n",
       "      <td>What's the meaning of life</td>\n",
       "      <td>The meaning of life is to be happy, to be usef...</td>\n",
       "      <td>down</td>\n",
       "      <td>2023-07-24 19:26:04.713297</td>\n",
       "    </tr>\n",
       "    <tr>\n",
       "      <th>4</th>\n",
       "      <td>5</td>\n",
       "      <td>What is the meaning of life</td>\n",
       "      <td>The meaning of life is to find your gift. The ...</td>\n",
       "      <td>up</td>\n",
       "      <td>2023-07-24 19:26:28.676427</td>\n",
       "    </tr>\n",
       "  </tbody>\n",
       "</table>\n",
       "</div>"
      ],
      "text/plain": [
       "   ID                                 Question  \\\n",
       "0   1       who founded YC and what does YC do   \n",
       "1   2            what are the top YC companies   \n",
       "2   3  How much does top 10 YC companies worth   \n",
       "3   4               What's the meaning of life   \n",
       "4   5              What is the meaning of life   \n",
       "\n",
       "                                              Answer Vote Status  \\\n",
       "0  Y Combinator is a startup accelerator that pro...          up   \n",
       "1  I am looking for a list of the top YC companie...        down   \n",
       "2  According to the latest Crunchbase data, the 1...        down   \n",
       "3  The meaning of life is to be happy, to be usef...        down   \n",
       "4  The meaning of life is to find your gift. The ...          up   \n",
       "\n",
       "                    Timestamp  \n",
       "0  2023-07-24 08:28:29.461045  \n",
       "1  2023-07-24 08:29:17.521467  \n",
       "2  2023-07-24 08:29:58.248998  \n",
       "3  2023-07-24 19:26:04.713297  \n",
       "4  2023-07-24 19:26:28.676427  "
      ]
     },
     "metadata": {},
     "output_type": "display_data"
    }
   ],
   "source": [
    "my_data_pd = qa_database.retrieve_all_question_answers_as_pandas()\n",
    "my_data_pd.head()"
   ]
  },
  {
   "cell_type": "code",
   "execution_count": null,
   "metadata": {},
   "outputs": [
    {
     "data": {
      "text/plain": [
       "(3, 5)"
      ]
     },
     "metadata": {},
     "output_type": "display_data"
    }
   ],
   "source": [
    "my_data_pd = my_data_pd[my_data_pd[QA_CSV_HEADER_VOTE_STATUS]==\"up\"]\n",
    "my_data_pd.shape"
   ]
  },
  {
   "cell_type": "code",
   "execution_count": null,
   "metadata": {},
   "outputs": [
    {
     "name": "stdout",
     "output_type": "stream",
     "text": [
      "My local database has 3 samples\n"
     ]
    },
    {
     "data": {
      "text/plain": [
       "Dataset({\n",
       "    features: ['ID', 'Question', 'Answer'],\n",
       "    num_rows: 3\n",
       "})"
      ]
     },
     "metadata": {},
     "output_type": "display_data"
    }
   ],
   "source": [
    "from datasets import Dataset\n",
    "\n",
    "my_data_pd = my_data_pd[[QA_CSV_HEADER_ID,\n",
    "                        QA_CSV_HEADER_QUESTION,\n",
    "                        QA_CSV_HEADER_ANSWER]]\n",
    "print(\"My local database has {} samples\".format(my_data_pd.shape[0]))\n",
    "dataset = Dataset.from_dict(my_data_pd)\n",
    "dataset"
   ]
  },
  {
   "cell_type": "markdown",
   "metadata": {},
   "source": [
    "### Train with RLHF"
   ]
  },
  {
   "cell_type": "code",
   "execution_count": null,
   "metadata": {},
   "outputs": [
    {
     "name": "stderr",
     "output_type": "stream",
     "text": [
      "/opt/conda/envs/724b/lib/python3.10/site-packages/trl/trainer/utils.py:246: UserWarning: The passed formatting_func has more than one argument. Usually that function should have a single argument `example` which corresponds to the dictonnary returned by each element of the dataset. Make sure you know what you are doing.\n",
      "  warnings.warn(\n"
     ]
    },
    {
     "name": "stdout",
     "output_type": "stream",
     "text": [
      "My local database has 3 samples\n",
      "Size of the train set: 2.               Size of the validation set: 1\n"
     ]
    },
    {
     "name": "stderr",
     "output_type": "stream",
     "text": [
      "Loading checkpoint shards: 100%|██████████| 2/2 [00:10<00:00,  5.18s/it]\n",
      "/opt/conda/envs/724b/lib/python3.10/site-packages/peft/utils/other.py:102: FutureWarning: prepare_model_for_int8_training is deprecated and will be removed in a future version. Use prepare_model_for_kbit_training instead.\n",
      "  warnings.warn(\n"
     ]
    },
    {
     "ename": "ValueError",
     "evalue": "Please specify `target_modules` in `peft_config`",
     "output_type": "error",
     "traceback": [
      "\u001b[0;31m---------------------------------------------------------------------------\u001b[0m\n",
      "\u001b[0;31mValueError\u001b[0m                                Traceback (most recent call last)\n",
      "Cell \u001b[0;32mIn[17], line 8\u001b[0m\n",
      "\u001b[1;32m      1\u001b[0m \u001b[39m# from pykoi.rlhf.rlhf import RLHFConfig, SFT ##, RewardTrainer, RL\u001b[39;00m\n",
      "\u001b[1;32m      3\u001b[0m config \u001b[39m=\u001b[39m pykoi\u001b[39m.\u001b[39mRLHFConfig(base_model_path\u001b[39m=\u001b[39m\u001b[39m\"\u001b[39m\u001b[39mtiiuae/falcon-7b\u001b[39m\u001b[39m\"\u001b[39m, \u001b[39m# \"meta-llama/Llama-2-7b-hf\", \u001b[39;00m\n",
      "\u001b[1;32m      4\u001b[0m                           dataset_type\u001b[39m=\u001b[39m\u001b[39m\"\u001b[39m\u001b[39mlocal_db\u001b[39m\u001b[39m\"\u001b[39m, \u001b[39m# \"\"\u001b[39;00m\n",
      "\u001b[1;32m      5\u001b[0m                           dataset_name\u001b[39m=\u001b[39m\u001b[39m\"\u001b[39m\u001b[39m/home/ubuntu/git/pykoi/test_data/train-00000-of-00020.parquet\u001b[39m\u001b[39m\"\u001b[39m\n",
      "\u001b[1;32m      6\u001b[0m                           )\n",
      "\u001b[0;32m----> 8\u001b[0m rlhf_step1_sft \u001b[39m=\u001b[39m pykoi\u001b[39m.\u001b[39;49mSFT(config)\n",
      "\n",
      "File \u001b[0;32m/opt/conda/envs/724b/lib/python3.10/site-packages/pykoi/rlhf/rlhf.py:432\u001b[0m, in \u001b[0;36mSFT.__init__\u001b[0;34m(self, rlhf_config)\u001b[0m\n",
      "\u001b[1;32m    406\u001b[0m \u001b[39mself\u001b[39m\u001b[39m.\u001b[39mtraining_args \u001b[39m=\u001b[39m TrainingArguments(\n",
      "\u001b[1;32m    407\u001b[0m     output_dir\u001b[39m=\u001b[39m\u001b[39mself\u001b[39m\u001b[39m.\u001b[39m_rlhf_config\u001b[39m.\u001b[39moutput_dir,\n",
      "\u001b[1;32m    408\u001b[0m     dataloader_drop_last\u001b[39m=\u001b[39m\u001b[39mTrue\u001b[39;00m,\n",
      "\u001b[0;32m   (...)\u001b[0m\n",
      "\u001b[1;32m    425\u001b[0m     ddp_find_unused_parameters\u001b[39m=\u001b[39m\u001b[39mFalse\u001b[39;00m,\n",
      "\u001b[1;32m    426\u001b[0m )\n",
      "\u001b[1;32m    427\u001b[0m \u001b[39mself\u001b[39m\u001b[39m.\u001b[39mmodel \u001b[39m=\u001b[39m AutoModelForCausalLM\u001b[39m.\u001b[39mfrom_pretrained(\n",
      "\u001b[1;32m    428\u001b[0m     \u001b[39mself\u001b[39m\u001b[39m.\u001b[39m_rlhf_config\u001b[39m.\u001b[39mbase_model_path,\n",
      "\u001b[1;32m    429\u001b[0m     load_in_8bit\u001b[39m=\u001b[39m\u001b[39mself\u001b[39m\u001b[39m.\u001b[39m_rlhf_config\u001b[39m.\u001b[39mload_in_8bit,\n",
      "\u001b[1;32m    430\u001b[0m     device_map\u001b[39m=\u001b[39m\u001b[39mself\u001b[39m\u001b[39m.\u001b[39m_rlhf_config\u001b[39m.\u001b[39mdevice_map,\n",
      "\u001b[1;32m    431\u001b[0m )\n",
      "\u001b[0;32m--> 432\u001b[0m \u001b[39mself\u001b[39m\u001b[39m.\u001b[39mtrainer \u001b[39m=\u001b[39m SFTTrainer(\n",
      "\u001b[1;32m    433\u001b[0m     model\u001b[39m=\u001b[39;49m\u001b[39mself\u001b[39;49m\u001b[39m.\u001b[39;49mmodel,\n",
      "\u001b[1;32m    434\u001b[0m     args\u001b[39m=\u001b[39;49m\u001b[39mself\u001b[39;49m\u001b[39m.\u001b[39;49mtraining_args,\n",
      "\u001b[1;32m    435\u001b[0m     train_dataset\u001b[39m=\u001b[39;49m\u001b[39mself\u001b[39;49m\u001b[39m.\u001b[39;49mdataset[\u001b[39m\"\u001b[39;49m\u001b[39mtrain\u001b[39;49m\u001b[39m\"\u001b[39;49m],\n",
      "\u001b[1;32m    436\u001b[0m     eval_dataset\u001b[39m=\u001b[39;49m\u001b[39mself\u001b[39;49m\u001b[39m.\u001b[39;49mdataset[\u001b[39m\"\u001b[39;49m\u001b[39meval\u001b[39;49m\u001b[39m\"\u001b[39;49m],\n",
      "\u001b[1;32m    437\u001b[0m     peft_config\u001b[39m=\u001b[39;49m\u001b[39mself\u001b[39;49m\u001b[39m.\u001b[39;49m_rlhf_config\u001b[39m.\u001b[39;49mlora_config_rl,\n",
      "\u001b[1;32m    438\u001b[0m     packing\u001b[39m=\u001b[39;49m\u001b[39mTrue\u001b[39;49;00m,\n",
      "\u001b[1;32m    439\u001b[0m )\n",
      "\n",
      "File \u001b[0;32m/opt/conda/envs/724b/lib/python3.10/site-packages/trl/trainer/sft_trainer.py:143\u001b[0m, in \u001b[0;36mSFTTrainer.__init__\u001b[0;34m(self, model, args, data_collator, train_dataset, eval_dataset, tokenizer, model_init, compute_metrics, callbacks, optimizers, preprocess_logits_for_metrics, peft_config, dataset_text_field, packing, formatting_func, max_seq_length, infinite, num_of_sequences, chars_per_token)\u001b[0m\n",
      "\u001b[1;32m    140\u001b[0m     \u001b[39mif\u001b[39;00m \u001b[39mgetattr\u001b[39m(model, \u001b[39m\"\u001b[39m\u001b[39mis_loaded_in_8bit\u001b[39m\u001b[39m\"\u001b[39m, \u001b[39mFalse\u001b[39;00m) \u001b[39mor\u001b[39;00m \u001b[39mgetattr\u001b[39m(model, \u001b[39m\"\u001b[39m\u001b[39mis_loaded_in_4bit\u001b[39m\u001b[39m\"\u001b[39m, \u001b[39mFalse\u001b[39;00m):\n",
      "\u001b[1;32m    141\u001b[0m         model \u001b[39m=\u001b[39m prepare_model_for_int8_training(model)\n",
      "\u001b[0;32m--> 143\u001b[0m     model \u001b[39m=\u001b[39m get_peft_model(model, peft_config)\n",
      "\u001b[1;32m    145\u001b[0m \u001b[39mif\u001b[39;00m callbacks \u001b[39mis\u001b[39;00m \u001b[39mNone\u001b[39;00m:\n",
      "\u001b[1;32m    146\u001b[0m     callbacks \u001b[39m=\u001b[39m [PeftSavingCallback]\n",
      "\n",
      "File \u001b[0;32m/opt/conda/envs/724b/lib/python3.10/site-packages/peft/mapping.py:98\u001b[0m, in \u001b[0;36mget_peft_model\u001b[0;34m(model, peft_config, adapter_name)\u001b[0m\n",
      "\u001b[1;32m     96\u001b[0m \u001b[39mif\u001b[39;00m \u001b[39misinstance\u001b[39m(peft_config, PromptLearningConfig):\n",
      "\u001b[1;32m     97\u001b[0m     peft_config \u001b[39m=\u001b[39m _prepare_prompt_learning_config(peft_config, model_config)\n",
      "\u001b[0;32m---> 98\u001b[0m \u001b[39mreturn\u001b[39;00m MODEL_TYPE_TO_PEFT_MODEL_MAPPING[peft_config\u001b[39m.\u001b[39;49mtask_type](model, peft_config, adapter_name\u001b[39m=\u001b[39;49madapter_name)\n",
      "\n",
      "File \u001b[0;32m/opt/conda/envs/724b/lib/python3.10/site-packages/peft/peft_model.py:893\u001b[0m, in \u001b[0;36mPeftModelForCausalLM.__init__\u001b[0;34m(self, model, peft_config, adapter_name)\u001b[0m\n",
      "\u001b[1;32m    892\u001b[0m \u001b[39mdef\u001b[39;00m \u001b[39m__init__\u001b[39m(\u001b[39mself\u001b[39m, model, peft_config: PeftConfig, adapter_name\u001b[39m=\u001b[39m\u001b[39m\"\u001b[39m\u001b[39mdefault\u001b[39m\u001b[39m\"\u001b[39m):\n",
      "\u001b[0;32m--> 893\u001b[0m     \u001b[39msuper\u001b[39;49m()\u001b[39m.\u001b[39;49m\u001b[39m__init__\u001b[39;49m(model, peft_config, adapter_name)\n",
      "\u001b[1;32m    894\u001b[0m     \u001b[39mself\u001b[39m\u001b[39m.\u001b[39mbase_model_prepare_inputs_for_generation \u001b[39m=\u001b[39m \u001b[39mself\u001b[39m\u001b[39m.\u001b[39mbase_model\u001b[39m.\u001b[39mprepare_inputs_for_generation\n",
      "\n",
      "File \u001b[0;32m/opt/conda/envs/724b/lib/python3.10/site-packages/peft/peft_model.py:112\u001b[0m, in \u001b[0;36mPeftModel.__init__\u001b[0;34m(self, model, peft_config, adapter_name)\u001b[0m\n",
      "\u001b[1;32m    110\u001b[0m \u001b[39mif\u001b[39;00m \u001b[39mnot\u001b[39;00m \u001b[39misinstance\u001b[39m(peft_config, PromptLearningConfig):\n",
      "\u001b[1;32m    111\u001b[0m     \u001b[39mself\u001b[39m\u001b[39m.\u001b[39mpeft_config[adapter_name] \u001b[39m=\u001b[39m peft_config\n",
      "\u001b[0;32m--> 112\u001b[0m     \u001b[39mself\u001b[39m\u001b[39m.\u001b[39mbase_model \u001b[39m=\u001b[39m PEFT_TYPE_TO_MODEL_MAPPING[peft_config\u001b[39m.\u001b[39;49mpeft_type](\n",
      "\u001b[1;32m    113\u001b[0m         \u001b[39mself\u001b[39;49m\u001b[39m.\u001b[39;49mbase_model, \u001b[39mself\u001b[39;49m\u001b[39m.\u001b[39;49mpeft_config, adapter_name\n",
      "\u001b[1;32m    114\u001b[0m     )\n",
      "\u001b[1;32m    115\u001b[0m     \u001b[39mself\u001b[39m\u001b[39m.\u001b[39mset_additional_trainable_modules(peft_config, adapter_name)\n",
      "\u001b[1;32m    116\u001b[0m \u001b[39melse\u001b[39;00m:\n",
      "\n",
      "File \u001b[0;32m/opt/conda/envs/724b/lib/python3.10/site-packages/peft/tuners/lora.py:180\u001b[0m, in \u001b[0;36mLoraModel.__init__\u001b[0;34m(self, model, config, adapter_name)\u001b[0m\n",
      "\u001b[1;32m    178\u001b[0m \u001b[39mself\u001b[39m\u001b[39m.\u001b[39mforward \u001b[39m=\u001b[39m \u001b[39mself\u001b[39m\u001b[39m.\u001b[39mmodel\u001b[39m.\u001b[39mforward\n",
      "\u001b[1;32m    179\u001b[0m \u001b[39mself\u001b[39m\u001b[39m.\u001b[39mpeft_config \u001b[39m=\u001b[39m config\n",
      "\u001b[0;32m--> 180\u001b[0m \u001b[39mself\u001b[39;49m\u001b[39m.\u001b[39;49madd_adapter(adapter_name, \u001b[39mself\u001b[39;49m\u001b[39m.\u001b[39;49mpeft_config[adapter_name])\n",
      "\u001b[1;32m    182\u001b[0m \u001b[39m# transformers models have a .config attribute, whose presence is assumed later on\u001b[39;00m\n",
      "\u001b[1;32m    183\u001b[0m \u001b[39mif\u001b[39;00m \u001b[39mnot\u001b[39;00m \u001b[39mhasattr\u001b[39m(\u001b[39mself\u001b[39m, \u001b[39m\"\u001b[39m\u001b[39mconfig\u001b[39m\u001b[39m\"\u001b[39m):\n",
      "\n",
      "File \u001b[0;32m/opt/conda/envs/724b/lib/python3.10/site-packages/peft/tuners/lora.py:192\u001b[0m, in \u001b[0;36mLoraModel.add_adapter\u001b[0;34m(self, adapter_name, config)\u001b[0m\n",
      "\u001b[1;32m    189\u001b[0m     \u001b[39mif\u001b[39;00m \u001b[39mhasattr\u001b[39m(model_config, \u001b[39m\"\u001b[39m\u001b[39mto_dict\u001b[39m\u001b[39m\"\u001b[39m):\n",
      "\u001b[1;32m    190\u001b[0m         model_config \u001b[39m=\u001b[39m model_config\u001b[39m.\u001b[39mto_dict()\n",
      "\u001b[0;32m--> 192\u001b[0m     config \u001b[39m=\u001b[39m \u001b[39mself\u001b[39;49m\u001b[39m.\u001b[39;49m_prepare_lora_config(config, model_config)\n",
      "\u001b[1;32m    193\u001b[0m     \u001b[39mself\u001b[39m\u001b[39m.\u001b[39mpeft_config[adapter_name] \u001b[39m=\u001b[39m config\n",
      "\u001b[1;32m    194\u001b[0m \u001b[39mself\u001b[39m\u001b[39m.\u001b[39m_find_and_replace(adapter_name)\n",
      "\n",
      "File \u001b[0;32m/opt/conda/envs/724b/lib/python3.10/site-packages/peft/tuners/lora.py:434\u001b[0m, in \u001b[0;36mLoraModel._prepare_lora_config\u001b[0;34m(peft_config, model_config)\u001b[0m\n",
      "\u001b[1;32m    432\u001b[0m \u001b[39mif\u001b[39;00m peft_config\u001b[39m.\u001b[39mtarget_modules \u001b[39mis\u001b[39;00m \u001b[39mNone\u001b[39;00m:\n",
      "\u001b[1;32m    433\u001b[0m     \u001b[39mif\u001b[39;00m model_config[\u001b[39m\"\u001b[39m\u001b[39mmodel_type\u001b[39m\u001b[39m\"\u001b[39m] \u001b[39mnot\u001b[39;00m \u001b[39min\u001b[39;00m TRANSFORMERS_MODELS_TO_LORA_TARGET_MODULES_MAPPING:\n",
      "\u001b[0;32m--> 434\u001b[0m         \u001b[39mraise\u001b[39;00m \u001b[39mValueError\u001b[39;00m(\u001b[39m\"\u001b[39m\u001b[39mPlease specify `target_modules` in `peft_config`\u001b[39m\u001b[39m\"\u001b[39m)\n",
      "\u001b[1;32m    435\u001b[0m     peft_config\u001b[39m.\u001b[39mtarget_modules \u001b[39m=\u001b[39m TRANSFORMERS_MODELS_TO_LORA_TARGET_MODULES_MAPPING[model_config[\u001b[39m\"\u001b[39m\u001b[39mmodel_type\u001b[39m\u001b[39m\"\u001b[39m]]\n",
      "\u001b[1;32m    436\u001b[0m \u001b[39mreturn\u001b[39;00m peft_config\n",
      "\n",
      "\u001b[0;31mValueError\u001b[0m: Please specify `target_modules` in `peft_config`"
     ]
    },
    {
     "name": "stderr",
     "output_type": "stream",
     "text": [
      "t=2023-07-24T23:17:11+0000 lvl=warn msg=\"failed to open private leg\" id=2d43a7ad08a5 privaddr=localhost:59175 err=\"dial tcp 127.0.0.1:59175: connect: connection refused\"\n",
      "t=2023-07-24T23:20:16+0000 lvl=warn msg=\"failed to open private leg\" id=c68d1d85cbb4 privaddr=localhost:59175 err=\"dial tcp 127.0.0.1:59175: connect: connection refused\"\n",
      "t=2023-07-24T23:22:21+0000 lvl=warn msg=\"failed to open private leg\" id=ea8c21fff5bd privaddr=localhost:59175 err=\"dial tcp 127.0.0.1:59175: connect: connection refused\"\n",
      "t=2023-07-24T23:23:42+0000 lvl=warn msg=\"failed to open private leg\" id=1ec689ec7aa4 privaddr=localhost:59175 err=\"dial tcp 127.0.0.1:59175: connect: connection refused\"\n"
     ]
    }
   ],
   "source": [
    "# from pykoi.rlhf.rlhf import RLHFConfig, SFT ##, RewardTrainer, RL\n",
    "\n",
    "config = pykoi.RLHFConfig(base_model_path=\"tiiuae/falcon-7b\", # \"meta-llama/Llama-2-7b-hf\", \n",
    "                          dataset_type=\"local_db\", # \"\"\n",
    "                          dataset_name=\"/home/ubuntu/git/pykoi/test_data/train-00000-of-00020.parquet\"\n",
    "                          )\n",
    "\n",
    "rlhf_step1_sft = pykoi.SFT(config)"
   ]
  },
  {
   "cell_type": "code",
   "execution_count": null,
   "metadata": {},
   "outputs": [
    {
     "ename": "NameError",
     "evalue": "name 'rlhf_step1_sft' is not defined",
     "output_type": "error",
     "traceback": [
      "\u001b[0;31m---------------------------------------------------------------------------\u001b[0m\n",
      "\u001b[0;31mNameError\u001b[0m                                 Traceback (most recent call last)\n",
      "Cell \u001b[0;32mIn[32], line 1\u001b[0m\n",
      "\u001b[0;32m----> 1\u001b[0m rlhf_step1_sft\u001b[39m.\u001b[39mtrain_and_save(\u001b[39m\"\u001b[39m\u001b[39m../../rlhf_tests/step1_07211538\u001b[39m\u001b[39m\"\u001b[39m)\n",
      "\n",
      "\u001b[0;31mNameError\u001b[0m: name 'rlhf_step1_sft' is not defined"
     ]
    }
   ],
   "source": [
    "rlhf_step1_sft.train_and_save(\"../../rlhf_tests/step1_07211538\")"
   ]
  },
  {
   "cell_type": "code",
   "execution_count": null,
   "metadata": {},
   "outputs": [],
   "source": []
  },
  {
   "cell_type": "code",
   "execution_count": null,
   "metadata": {},
   "outputs": [],
   "source": []
  },
  {
   "cell_type": "code",
   "execution_count": null,
   "metadata": {},
   "outputs": [],
   "source": []
  },
  {
   "cell_type": "code",
   "execution_count": null,
   "metadata": {},
   "outputs": [],
   "source": []
  },
  {
   "cell_type": "code",
   "execution_count": null,
   "metadata": {},
   "outputs": [],
   "source": []
  },
  {
   "cell_type": "code",
   "execution_count": null,
   "metadata": {},
   "outputs": [],
   "source": []
  },
  {
   "cell_type": "markdown",
   "metadata": {},
   "source": [
    "### Insert my data to the DB"
   ]
  },
  {
   "cell_type": "code",
   "execution_count": null,
   "metadata": {},
   "outputs": [
    {
     "data": {
      "text/html": [
       "<div>\n",
       "<style scoped>\n",
       "    .dataframe tbody tr th:only-of-type {\n",
       "        vertical-align: middle;\n",
       "    }\n",
       "\n",
       "    .dataframe tbody tr th {\n",
       "        vertical-align: top;\n",
       "    }\n",
       "\n",
       "    .dataframe thead th {\n",
       "        text-align: right;\n",
       "    }\n",
       "</style>\n",
       "<table border=\"1\" class=\"dataframe\">\n",
       "  <thead>\n",
       "    <tr style=\"text-align: right;\">\n",
       "      <th></th>\n",
       "      <th>ID</th>\n",
       "      <th>Question</th>\n",
       "      <th>Answer</th>\n",
       "      <th>Vote Status</th>\n",
       "      <th>Timestamp</th>\n",
       "    </tr>\n",
       "  </thead>\n",
       "  <tbody>\n",
       "    <tr>\n",
       "      <th>0</th>\n",
       "      <td>1</td>\n",
       "      <td>Who is Rachel?</td>\n",
       "      <td>CEO of CambioML</td>\n",
       "      <td>up</td>\n",
       "      <td>2023-07-20 23:19:25.202246</td>\n",
       "    </tr>\n",
       "    <tr>\n",
       "      <th>1</th>\n",
       "      <td>2</td>\n",
       "      <td>Who is Jared?</td>\n",
       "      <td>CTO of CambioML</td>\n",
       "      <td>up</td>\n",
       "      <td>2023-07-20 23:19:25.206972</td>\n",
       "    </tr>\n",
       "    <tr>\n",
       "      <th>2</th>\n",
       "      <td>3</td>\n",
       "      <td>Who is Kimi?</td>\n",
       "      <td>Nobody of CambioML</td>\n",
       "      <td>down</td>\n",
       "      <td>2023-07-20 23:19:25.210210</td>\n",
       "    </tr>\n",
       "    <tr>\n",
       "      <th>0</th>\n",
       "      <td>12891264</td>\n",
       "      <td>I am using jQuery fileupload plugin and I want...</td>\n",
       "      <td>Looking at the library code, seems all events ...</td>\n",
       "      <td>NaN</td>\n",
       "      <td>NaN</td>\n",
       "    </tr>\n",
       "    <tr>\n",
       "      <th>1</th>\n",
       "      <td>588860</td>\n",
       "      <td>When reading about the Big Bang you’ll commonl...</td>\n",
       "      <td>No. The local energy *density* is reduced as t...</td>\n",
       "      <td>NaN</td>\n",
       "      <td>NaN</td>\n",
       "    </tr>\n",
       "    <tr>\n",
       "      <th>...</th>\n",
       "      <td>...</td>\n",
       "      <td>...</td>\n",
       "      <td>...</td>\n",
       "      <td>...</td>\n",
       "      <td>...</td>\n",
       "    </tr>\n",
       "    <tr>\n",
       "      <th>92</th>\n",
       "      <td>16617081</td>\n",
       "      <td>here is my object with sample data\\n\\n```\\nObj...</td>\n",
       "      <td>Firstly, if you've just got a date, I would su...</td>\n",
       "      <td>NaN</td>\n",
       "      <td>NaN</td>\n",
       "    </tr>\n",
       "    <tr>\n",
       "      <th>93</th>\n",
       "      <td>7690401</td>\n",
       "      <td>Trying to add \"import\" statement to my new sca...</td>\n",
       "      <td>Make sure that you have a Java SDK configured ...</td>\n",
       "      <td>NaN</td>\n",
       "      <td>NaN</td>\n",
       "    </tr>\n",
       "    <tr>\n",
       "      <th>94</th>\n",
       "      <td>42071634</td>\n",
       "      <td>Is there any way to define a static method in ...</td>\n",
       "      <td>The simplest solution is probably to have the ...</td>\n",
       "      <td>NaN</td>\n",
       "      <td>NaN</td>\n",
       "    </tr>\n",
       "    <tr>\n",
       "      <th>95</th>\n",
       "      <td>42071634</td>\n",
       "      <td>Is there any way to define a static method in ...</td>\n",
       "      <td>The simplest solution is probably to have the ...</td>\n",
       "      <td>NaN</td>\n",
       "      <td>NaN</td>\n",
       "    </tr>\n",
       "    <tr>\n",
       "      <th>96</th>\n",
       "      <td>42071634</td>\n",
       "      <td>Is there any way to define a static method in ...</td>\n",
       "      <td>The simplest solution is probably to have the ...</td>\n",
       "      <td>NaN</td>\n",
       "      <td>NaN</td>\n",
       "    </tr>\n",
       "  </tbody>\n",
       "</table>\n",
       "<p>100 rows × 5 columns</p>\n",
       "</div>"
      ],
      "text/plain": [
       "          ID                                           Question  \\\n",
       "0          1                                     Who is Rachel?   \n",
       "1          2                                      Who is Jared?   \n",
       "2          3                                       Who is Kimi?   \n",
       "0   12891264  I am using jQuery fileupload plugin and I want...   \n",
       "1     588860  When reading about the Big Bang you’ll commonl...   \n",
       "..       ...                                                ...   \n",
       "92  16617081  here is my object with sample data\\n\\n```\\nObj...   \n",
       "93   7690401  Trying to add \"import\" statement to my new sca...   \n",
       "94  42071634  Is there any way to define a static method in ...   \n",
       "95  42071634  Is there any way to define a static method in ...   \n",
       "96  42071634  Is there any way to define a static method in ...   \n",
       "\n",
       "                                               Answer Vote Status  \\\n",
       "0                                     CEO of CambioML          up   \n",
       "1                                     CTO of CambioML          up   \n",
       "2                                  Nobody of CambioML        down   \n",
       "0   Looking at the library code, seems all events ...         NaN   \n",
       "1   No. The local energy *density* is reduced as t...         NaN   \n",
       "..                                                ...         ...   \n",
       "92  Firstly, if you've just got a date, I would su...         NaN   \n",
       "93  Make sure that you have a Java SDK configured ...         NaN   \n",
       "94  The simplest solution is probably to have the ...         NaN   \n",
       "95  The simplest solution is probably to have the ...         NaN   \n",
       "96  The simplest solution is probably to have the ...         NaN   \n",
       "\n",
       "                     Timestamp  \n",
       "0   2023-07-20 23:19:25.202246  \n",
       "1   2023-07-20 23:19:25.206972  \n",
       "2   2023-07-20 23:19:25.210210  \n",
       "0                          NaN  \n",
       "1                          NaN  \n",
       "..                         ...  \n",
       "92                         NaN  \n",
       "93                         NaN  \n",
       "94                         NaN  \n",
       "95                         NaN  \n",
       "96                         NaN  \n",
       "\n",
       "[100 rows x 5 columns]"
      ]
     },
     "metadata": {},
     "output_type": "display_data"
    }
   ],
   "source": [
    "import pandas as pd\n",
    "my_stackoverflow_dataset = pd.read_csv(\"/home/ubuntu/pykoi/pykoi/my_sql_data.csv\", index_col=0)\n",
    "my_stackoverflow_dataset.head(100)"
   ]
  },
  {
   "cell_type": "code",
   "execution_count": null,
   "metadata": {},
   "outputs": [],
   "source": [
    "for row in my_stackoverflow_dataset.iloc[3:100].to_dict('records'):\n",
    "    qa_id = qa_database.insert_question_answer(question=row[QA_CSV_HEADER_QUESTION],\n",
    "                                       answer=row[QA_CSV_HEADER_ANSWER])\n",
    "    qa_database.update_vote_status(id=qa_id, vote_status=\"up\") #row[QA_CSV_HEADER_VOTE_STATUS])"
   ]
  },
  {
   "cell_type": "code",
   "execution_count": null,
   "metadata": {},
   "outputs": [],
   "source": [
    "qa_database"
   ]
  },
  {
   "cell_type": "code",
   "execution_count": null,
   "metadata": {},
   "outputs": [],
   "source": [
    "# dataset = Dataset.from_dict(my_data_pd)"
   ]
  }
 ],
 "metadata": {
  "language_info": {
   "name": "python"
  },
  "orig_nbformat": 4
 },
 "nbformat": 4,
 "nbformat_minor": 2
}
