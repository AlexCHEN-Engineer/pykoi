{
 "cells": [
  {
   "cell_type": "code",
   "execution_count": 1,
   "metadata": {},
   "outputs": [
    {
     "name": "stdout",
     "output_type": "stream",
     "text": [
      "/Users/lingjiekong/Documents/github/cambioml/pykoi\n"
     ]
    }
   ],
   "source": [
    "%reload_ext autoreload\n",
    "%autoreload 2\n",
    "\n",
    "import os\n",
    "import sys\n",
    "\n",
    "# Add the root folder to the module search path\n",
    "# Get the current directory\n",
    "current_directory = os.getcwd()\n",
    "\n",
    "# Move two levels up (go to the parent directory of the parent directory)\n",
    "two_levels_up_directory = os.path.dirname(os.path.dirname(current_directory))\n",
    "\n",
    "print(two_levels_up_directory)\n",
    "\n",
    "sys.path.append(two_levels_up_directory)"
   ]
  },
  {
   "cell_type": "code",
   "execution_count": 2,
   "metadata": {},
   "outputs": [
    {
     "name": "stderr",
     "output_type": "stream",
     "text": [
      "/Users/lingjiekong/anaconda3/envs/pykoi-test/lib/python3.10/site-packages/tqdm/auto.py:21: TqdmWarning: IProgress not found. Please update jupyter and ipywidgets. See https://ipywidgets.readthedocs.io/en/stable/user_install.html\n",
      "  from .autonotebook import tqdm as notebook_tqdm\n"
     ]
    },
    {
     "name": "stdout",
     "output_type": "stream",
     "text": [
      "'NoneType' object has no attribute 'cadam32bit_grad_fp32'\n"
     ]
    },
    {
     "name": "stderr",
     "output_type": "stream",
     "text": [
      "/Users/lingjiekong/anaconda3/envs/pykoi-test/lib/python3.10/site-packages/bitsandbytes/cextension.py:34: UserWarning: The installed version of bitsandbytes was compiled without GPU support. 8-bit optimizers, 8-bit multiplication, and GPU quantization are unavailable.\n",
      "  warn(\"The installed version of bitsandbytes was compiled without GPU support. \"\n"
     ]
    }
   ],
   "source": [
    "\"\"\"Demo for the retrieval_qa application.\"\"\"\n",
    "\n",
    "import os\n",
    "import argparse\n",
    "import nest_asyncio\n",
    "from milvus import default_server\n",
    "from pymilvus import connections, utility\n",
    "\n",
    "import pykoi\n",
    "\n",
    "nest_asyncio.apply()\n",
    "\n",
    "os.environ[\"DOC_PATH\"] = os.path.join(os.getcwd(), \"temp/docs\")\n",
    "os.environ[\"VECTORDB_PATH\"] = os.path.join(os.getcwd(), \"temp/vectordb\")\n",
    "MODEL_SOURCE = \"huggingface\"\n",
    "kwargs = {\n",
    "    \"vectordb\": \"milvus\",\n",
    "    \"host\": \"127.0.0.1\",\n",
    "    \"port\": 19530\n",
    "}\n",
    "\n",
    "with default_server:\n",
    "    # TODO: set base dir to your milvus path\n",
    "    default_server.set_base_dir(\"{}/milvus\".format(os.getenv(\"VECTORDB_PATH\")))\n",
    "    connections.connect(host=kwargs.get(\"host\"), port=kwargs.get(\"port\"))\n",
    "    print(utility.get_server_version())\n",
    "    #####################################\n",
    "    # Creating a retrieval QA component #\n",
    "    #####################################\n",
    "    # vector database\n",
    "    print(\"Creating vector database...\")\n",
    "    vector_db = pykoi.VectorDbFactory.create(\n",
    "        model_source=MODEL_SOURCE,\n",
    "        vector_db_name=kwargs.get(\"vectordb\"),\n",
    "        model_name=\"BAAI/bge-large-en\",\n",
    "        trust_remote_code=True,\n",
    "        **kwargs\n",
    "    )\n",
    "    # retrieval model with vector database\n",
    "    print(\"Creating retrieval model...\")\n",
    "    retrieval_model = pykoi.RetrievalFactory.create(\n",
    "        model_source=MODEL_SOURCE,\n",
    "        vector_db=vector_db,\n",
    "        model_name=\"databricks/dolly-v2-3b\",\n",
    "        trust_remote_code=True,\n",
    "        max_length=1000,\n",
    "    )\n",
    "\n",
    "    # retrieval and chatbot components\n",
    "    retriever = pykoi.RetrievalQA(\n",
    "        retrieval_model=retrieval_model, vector_db=vector_db\n",
    "    )\n",
    "    chatbot = pykoi.Chatbot(None, feedback=\"vote\", is_retrieval=True)\n",
    "    database = pykoi.QuestionAnswerDatabase(debug=True)\n",
    "    dashboard = pykoi.Dashboard(database=database)\n",
    "\n",
    "    ############################################################\n",
    "    # Starting the application and retrieval qa as a component #\n",
    "    ############################################################\n",
    "    # Create the application\n",
    "    app = pykoi.Application(debug=False, share=False)\n",
    "    app.add_component(retriever)\n",
    "    app.add_component(chatbot)\n",
    "    app.add_component(dashboard)\n",
    "    app.run()\n"
   ]
  }
 ],
 "metadata": {
  "kernelspec": {
   "display_name": "pykoi-test",
   "language": "python",
   "name": "python3"
  },
  "language_info": {
   "codemirror_mode": {
    "name": "ipython",
    "version": 3
   },
   "file_extension": ".py",
   "mimetype": "text/x-python",
   "name": "python",
   "nbconvert_exporter": "python",
   "pygments_lexer": "ipython3",
   "version": "3.10.12"
  },
  "orig_nbformat": 4
 },
 "nbformat": 4,
 "nbformat_minor": 2
}
