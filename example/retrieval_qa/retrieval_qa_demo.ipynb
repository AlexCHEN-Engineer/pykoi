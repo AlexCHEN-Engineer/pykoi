{
 "cells": [
  {
   "cell_type": "code",
   "execution_count": 1,
   "metadata": {},
   "outputs": [
    {
     "name": "stdout",
     "output_type": "stream",
     "text": [
      "/Users/lingjiekong/Documents/github/cambioml/pykoi\n"
     ]
    }
   ],
   "source": [
    "%reload_ext autoreload\n",
    "%autoreload 2\n",
    "\n",
    "import os\n",
    "import sys\n",
    "\n",
    "# Add the root folder to the module search path\n",
    "# Get the current directory\n",
    "current_directory = os.getcwd()\n",
    "\n",
    "# Move two levels up (go to the parent directory of the parent directory)\n",
    "two_levels_up_directory = os.path.dirname(os.path.dirname(current_directory))\n",
    "\n",
    "print(two_levels_up_directory)\n",
    "\n",
    "sys.path.append(two_levels_up_directory)"
   ]
  },
  {
   "cell_type": "code",
   "execution_count": 2,
   "metadata": {},
   "outputs": [
    {
     "name": "stderr",
     "output_type": "stream",
     "text": [
      "/Users/lingjiekong/anaconda3/envs/pykoi-test/lib/python3.10/site-packages/tqdm/auto.py:21: TqdmWarning: IProgress not found. Please update jupyter and ipywidgets. See https://ipywidgets.readthedocs.io/en/stable/user_install.html\n",
      "  from .autonotebook import tqdm as notebook_tqdm\n"
     ]
    },
    {
     "name": "stdout",
     "output_type": "stream",
     "text": [
      "'NoneType' object has no attribute 'cadam32bit_grad_fp32'\n"
     ]
    },
    {
     "name": "stderr",
     "output_type": "stream",
     "text": [
      "/Users/lingjiekong/anaconda3/envs/pykoi-test/lib/python3.10/site-packages/bitsandbytes/cextension.py:34: UserWarning: The installed version of bitsandbytes was compiled without GPU support. 8-bit optimizers, 8-bit multiplication, and GPU quantization are unavailable.\n",
      "  warn(\"The installed version of bitsandbytes was compiled without GPU support. \"\n"
     ]
    }
   ],
   "source": [
    "from milvus import default_server\n",
    "from pymilvus import connections, utility\n",
    "\n",
    "import os\n",
    "import pykoi\n",
    "import nest_asyncio\n",
    "nest_asyncio.apply()"
   ]
  },
  {
   "cell_type": "code",
   "execution_count": 3,
   "metadata": {},
   "outputs": [
    {
     "ename": "TimeoutError",
     "evalue": "Milvus not startd in 30.0 seconds",
     "output_type": "error",
     "traceback": [
      "\u001b[0;31m---------------------------------------------------------------------------\u001b[0m",
      "\u001b[0;31mTimeoutError\u001b[0m                              Traceback (most recent call last)",
      "\u001b[1;32m/Users/lingjiekong/Documents/github/cambioml/pykoi/example/retrieval_qa/retrieval_qa_demo.ipynb Cell 3\u001b[0m line \u001b[0;36m6\n\u001b[1;32m      <a href='vscode-notebook-cell:/Users/lingjiekong/Documents/github/cambioml/pykoi/example/retrieval_qa/retrieval_qa_demo.ipynb#W2sZmlsZQ%3D%3D?line=1'>2</a>\u001b[0m os\u001b[39m.\u001b[39menviron[\u001b[39m\"\u001b[39m\u001b[39mDOC_PATH\u001b[39m\u001b[39m\"\u001b[39m] \u001b[39m=\u001b[39m os\u001b[39m.\u001b[39mpath\u001b[39m.\u001b[39mjoin(os\u001b[39m.\u001b[39mgetcwd(), \u001b[39m\"\u001b[39m\u001b[39mtemp/docs\u001b[39m\u001b[39m\"\u001b[39m)\n\u001b[1;32m      <a href='vscode-notebook-cell:/Users/lingjiekong/Documents/github/cambioml/pykoi/example/retrieval_qa/retrieval_qa_demo.ipynb#W2sZmlsZQ%3D%3D?line=2'>3</a>\u001b[0m os\u001b[39m.\u001b[39menviron[\u001b[39m\"\u001b[39m\u001b[39mVECTORDB_PATH\u001b[39m\u001b[39m\"\u001b[39m] \u001b[39m=\u001b[39m os\u001b[39m.\u001b[39mpath\u001b[39m.\u001b[39mjoin(os\u001b[39m.\u001b[39mgetcwd(), \u001b[39m\"\u001b[39m\u001b[39mtemp/vectordb\u001b[39m\u001b[39m\"\u001b[39m)\n\u001b[0;32m----> <a href='vscode-notebook-cell:/Users/lingjiekong/Documents/github/cambioml/pykoi/example/retrieval_qa/retrieval_qa_demo.ipynb#W2sZmlsZQ%3D%3D?line=5'>6</a>\u001b[0m \u001b[39mwith\u001b[39;00m default_server:\n\u001b[1;32m      <a href='vscode-notebook-cell:/Users/lingjiekong/Documents/github/cambioml/pykoi/example/retrieval_qa/retrieval_qa_demo.ipynb#W2sZmlsZQ%3D%3D?line=6'>7</a>\u001b[0m     default_server\u001b[39m.\u001b[39mset_base_dir(\u001b[39m\"\u001b[39m\u001b[39m{}\u001b[39;00m\u001b[39m/milvus\u001b[39m\u001b[39m\"\u001b[39m\u001b[39m.\u001b[39mformat(os\u001b[39m.\u001b[39mgetenv(\u001b[39m\"\u001b[39m\u001b[39mVECTORDB_PATH\u001b[39m\u001b[39m\"\u001b[39m)))\n\u001b[1;32m      <a href='vscode-notebook-cell:/Users/lingjiekong/Documents/github/cambioml/pykoi/example/retrieval_qa/retrieval_qa_demo.ipynb#W2sZmlsZQ%3D%3D?line=7'>8</a>\u001b[0m     connections\u001b[39m.\u001b[39mconnect(host\u001b[39m=\u001b[39m\u001b[39m\"\u001b[39m\u001b[39m127.0.0.1\u001b[39m\u001b[39m\"\u001b[39m, port\u001b[39m=\u001b[39m\u001b[39m19530\u001b[39m)\n",
      "File \u001b[0;32m~/anaconda3/envs/pykoi-test/lib/python3.10/site-packages/milvus/__init__.py:346\u001b[0m, in \u001b[0;36mMilvusServer.__enter__\u001b[0;34m(self)\u001b[0m\n\u001b[1;32m    345\u001b[0m \u001b[39mdef\u001b[39;00m \u001b[39m__enter__\u001b[39m(\u001b[39mself\u001b[39m):\n\u001b[0;32m--> 346\u001b[0m     \u001b[39mself\u001b[39;49m\u001b[39m.\u001b[39;49mstart()\n",
      "File \u001b[0;32m~/anaconda3/envs/pykoi-test/lib/python3.10/site-packages/milvus/__init__.py:427\u001b[0m, in \u001b[0;36mMilvusServer.start\u001b[0;34m(self)\u001b[0m\n\u001b[1;32m    425\u001b[0m os\u001b[39m.\u001b[39mchdir(old_pwd)\n\u001b[1;32m    426\u001b[0m \u001b[39mif\u001b[39;00m \u001b[39mself\u001b[39m\u001b[39m.\u001b[39mwait_for_started:\n\u001b[0;32m--> 427\u001b[0m     \u001b[39mself\u001b[39;49m\u001b[39m.\u001b[39;49mwait_started()\n\u001b[1;32m    428\u001b[0m \u001b[39mif\u001b[39;00m \u001b[39mnot\u001b[39;00m \u001b[39mself\u001b[39m\u001b[39m.\u001b[39m_debug:\n\u001b[1;32m    429\u001b[0m     \u001b[39mself\u001b[39m\u001b[39m.\u001b[39mshow_banner()\n",
      "File \u001b[0;32m~/anaconda3/envs/pykoi-test/lib/python3.10/site-packages/milvus/__init__.py:391\u001b[0m, in \u001b[0;36mMilvusServer.wait_started\u001b[0;34m(self, timeout)\u001b[0m\n\u001b[1;32m    389\u001b[0m         sleep(\u001b[39m0.1\u001b[39m)\n\u001b[1;32m    390\u001b[0m \u001b[39mif\u001b[39;00m \u001b[39mself\u001b[39m\u001b[39m.\u001b[39mrunning:\n\u001b[0;32m--> 391\u001b[0m     \u001b[39mraise\u001b[39;00m \u001b[39mTimeoutError\u001b[39;00m(\u001b[39mf\u001b[39m\u001b[39m'\u001b[39m\u001b[39mMilvus not startd in \u001b[39m\u001b[39m{\u001b[39;00mtimeout\u001b[39m/\u001b[39m\u001b[39m1000\u001b[39m\u001b[39m}\u001b[39;00m\u001b[39m seconds\u001b[39m\u001b[39m'\u001b[39m)\n\u001b[1;32m    392\u001b[0m \u001b[39melse\u001b[39;00m:\n\u001b[1;32m    393\u001b[0m     \u001b[39mraise\u001b[39;00m \u001b[39mRuntimeError\u001b[39;00m(\u001b[39m'\u001b[39m\u001b[39mMilvus server already stopped\u001b[39m\u001b[39m'\u001b[39m)\n",
      "\u001b[0;31mTimeoutError\u001b[0m: Milvus not startd in 30.0 seconds"
     ]
    }
   ],
   "source": [
    "os.environ[\"OPENAI_API_KEY\"] = \"\"\n",
    "os.environ[\"DOC_PATH\"] = os.path.join(os.getcwd(), \"temp/docs\")\n",
    "os.environ[\"VECTORDB_PATH\"] = os.path.join(os.getcwd(), \"temp/vectordb\")\n",
    "\n",
    "\n",
    "with default_server:\n",
    "    default_server.set_base_dir(\"{}/milvus\".format(os.getenv(\"VECTORDB_PATH\")))\n",
    "    connections.connect(host=\"127.0.0.1\", port=19530)\n",
    "    print(utility.get_server_version())\n",
    "    \n",
    "    MODEL_SOURCE = \"openai\"\n",
    "\n",
    "    #####################################\n",
    "    # Creating a retrieval QA component #\n",
    "    #####################################\n",
    "    # vector database\n",
    "    vector_db = pykoi.VectorDbFactory.create(\n",
    "        model_source=MODEL_SOURCE, vector_db_name=\"milvus\")\n",
    "\n",
    "    # retrieval model with vector database\n",
    "    retrieval_model = pykoi.RetrievalFactory.create(\n",
    "        model_source=MODEL_SOURCE, vector_db=vector_db\n",
    "    )\n",
    "\n",
    "    # sql database\n",
    "    database = pykoi.QuestionAnswerDatabase(debug=True)\n",
    "    dashboard = pykoi.Dashboard(database=database)\n",
    "\n",
    "    # Creating an OpenAI model\n",
    "    model = pykoi.ModelFactory.create_model(\n",
    "        model_source=MODEL_SOURCE, api_key=os.environ[\"OPENAI_API_KEY\"]\n",
    "    )\n",
    "\n",
    "    # retrieval and chatbot components\n",
    "    retriever = pykoi.RetrievalQA(retrieval_model=retrieval_model, vector_db=vector_db)\n",
    "    chatbot = pykoi.Chatbot(model=model, feedback=\"vote\", is_retrieval=True)\n",
    "\n",
    "    ############################################################\n",
    "    # Starting the application and retrieval qa as a component #\n",
    "    ############################################################\n",
    "    # Create the application\n",
    "    app = pykoi.Application(debug=False, share=False)\n",
    "    app.add_component(retriever)\n",
    "    app.add_component(chatbot)\n",
    "    app.add_component(dashboard)\n",
    "    app.run()"
   ]
  },
  {
   "cell_type": "code",
   "execution_count": null,
   "metadata": {},
   "outputs": [],
   "source": []
  },
  {
   "cell_type": "code",
   "execution_count": null,
   "metadata": {},
   "outputs": [],
   "source": []
  }
 ],
 "metadata": {
  "kernelspec": {
   "display_name": "pykoi-test",
   "language": "python",
   "name": "python3"
  },
  "language_info": {
   "codemirror_mode": {
    "name": "ipython",
    "version": 3
   },
   "file_extension": ".py",
   "mimetype": "text/x-python",
   "name": "python",
   "nbconvert_exporter": "python",
   "pygments_lexer": "ipython3",
   "version": "3.10.12"
  },
  "orig_nbformat": 4
 },
 "nbformat": 4,
 "nbformat_minor": 2
}
