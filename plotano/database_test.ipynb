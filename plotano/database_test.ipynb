{
 "cells": [
  {
   "cell_type": "markdown",
   "metadata": {},
   "source": []
  },
  {
   "cell_type": "code",
   "execution_count": 1,
   "metadata": {},
   "outputs": [
    {
     "name": "stdout",
     "output_type": "stream",
     "text": [
      "/Users/lingjiekong/Documents/github/cambioml/plotano/plotano\n"
     ]
    }
   ],
   "source": [
    "%reload_ext autoreload\n",
    "%autoreload 2\n",
    "\n",
    "import os\n",
    "import sys\n",
    "\n",
    "# Add the root folder to the module search path\n",
    "root_folder = os.path.dirname(os.getcwd())\n",
    "sys.path.append(root_folder)\n",
    "print(os.getcwd())"
   ]
  },
  {
   "cell_type": "code",
   "execution_count": 2,
   "metadata": {},
   "outputs": [],
   "source": [
    "from plotano.db.qa_database import QuestionAnswerDatabase"
   ]
  },
  {
   "cell_type": "code",
   "execution_count": 3,
   "metadata": {},
   "outputs": [
    {
     "name": "stdout",
     "output_type": "stream",
     "text": [
      "Table contents after creating table:\n"
     ]
    }
   ],
   "source": [
    "\n",
    "db = QuestionAnswerDatabase(\n",
    "    # db_file = \"/Users/lingjiekong/Documents/github/cambioml/plotano/plotano/db/qa.db\",\n",
    "    debug=True)"
   ]
  },
  {
   "cell_type": "code",
   "execution_count": 4,
   "metadata": {},
   "outputs": [
    {
     "name": "stdout",
     "output_type": "stream",
     "text": [
      "Table contents after creating table:\n"
     ]
    }
   ],
   "source": [
    "db.create_table()"
   ]
  },
  {
   "cell_type": "code",
   "execution_count": 5,
   "metadata": {},
   "outputs": [
    {
     "name": "stdout",
     "output_type": "stream",
     "text": [
      "Table contents after inserting table:\n",
      "ID: 1, Question: Who is Rachel?, Answer: CEO of CambioML, Vote Status: n/a\n",
      "Table contents after inserting table:\n",
      "ID: 1, Question: Who is Rachel?, Answer: CEO of CambioML, Vote Status: n/a\n",
      "ID: 2, Question: Who is Jared?, Answer: CTO of CambioML, Vote Status: n/a\n",
      "Table contents after inserting table:\n",
      "ID: 1, Question: Who is Rachel?, Answer: CEO of CambioML, Vote Status: n/a\n",
      "ID: 2, Question: Who is Jared?, Answer: CTO of CambioML, Vote Status: n/a\n",
      "ID: 3, Question: Who is Kimi?, Answer: Nobody of CambioML, Vote Status: n/a\n"
     ]
    }
   ],
   "source": [
    "id = db.insert_question_answer(question=\"Who is Rachel?\", answer=\"CEO of CambioML\")\n",
    "id = db.insert_question_answer(question=\"Who is Jared?\", answer=\"CTO of CambioML\")\n",
    "id = db.insert_question_answer(question=\"Who is Kimi?\", answer=\"Nobody of CambioML\")"
   ]
  },
  {
   "cell_type": "code",
   "execution_count": 6,
   "metadata": {},
   "outputs": [
    {
     "name": "stdout",
     "output_type": "stream",
     "text": [
      "Table contents after updating table:\n",
      "ID: 1, Question: Who is Rachel?, Answer: CEO of CambioML, Vote Status: up\n",
      "ID: 2, Question: Who is Jared?, Answer: CTO of CambioML, Vote Status: n/a\n",
      "ID: 3, Question: Who is Kimi?, Answer: Nobody of CambioML, Vote Status: n/a\n"
     ]
    }
   ],
   "source": [
    "db.update_vote_status(id=1, vote_status=\"up\")"
   ]
  },
  {
   "cell_type": "code",
   "execution_count": 7,
   "metadata": {},
   "outputs": [
    {
     "data": {
      "text/plain": [
       "[(1, 'Who is Rachel?', 'CEO of CambioML', 'up'),\n",
       " (2, 'Who is Jared?', 'CTO of CambioML', 'n/a'),\n",
       " (3, 'Who is Kimi?', 'Nobody of CambioML', 'n/a')]"
      ]
     },
     "execution_count": 7,
     "metadata": {},
     "output_type": "execute_result"
    }
   ],
   "source": [
    "db.retrieve_all_question_answers()"
   ]
  },
  {
   "cell_type": "code",
   "execution_count": 8,
   "metadata": {},
   "outputs": [],
   "source": [
    "db.close_connection()"
   ]
  },
  {
   "cell_type": "code",
   "execution_count": null,
   "metadata": {},
   "outputs": [],
   "source": []
  }
 ],
 "metadata": {
  "kernelspec": {
   "display_name": "peel",
   "language": "python",
   "name": "python3"
  },
  "language_info": {
   "codemirror_mode": {
    "name": "ipython",
    "version": 3
   },
   "file_extension": ".py",
   "mimetype": "text/x-python",
   "name": "python",
   "nbconvert_exporter": "python",
   "pygments_lexer": "ipython3",
   "version": "3.10.12"
  },
  "orig_nbformat": 4
 },
 "nbformat": 4,
 "nbformat_minor": 2
}
