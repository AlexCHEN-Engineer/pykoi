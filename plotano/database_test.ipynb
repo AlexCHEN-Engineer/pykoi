{
 "cells": [
  {
   "attachments": {},
   "cell_type": "markdown",
   "metadata": {},
   "source": []
  },
  {
   "cell_type": "code",
   "execution_count": 1,
   "metadata": {},
   "outputs": [
    {
     "name": "stdout",
     "output_type": "stream",
     "text": [
      "/home/ubuntu/plotano/plotano\n"
     ]
    }
   ],
   "source": [
    "%reload_ext autoreload\n",
    "%autoreload 2\n",
    "\n",
    "import os\n",
    "import sys\n",
    "\n",
    "# Add the root folder to the module search path\n",
    "root_folder = os.path.dirname(os.getcwd())\n",
    "sys.path.append(root_folder)\n",
    "print(os.getcwd())"
   ]
  },
  {
   "cell_type": "code",
   "execution_count": 2,
   "metadata": {},
   "outputs": [],
   "source": [
    "from plotano.db.qa_database import QuestionAnswerDatabase"
   ]
  },
  {
   "cell_type": "code",
   "execution_count": 4,
   "metadata": {},
   "outputs": [
    {
     "name": "stdout",
     "output_type": "stream",
     "text": [
      "Table contents after creating table:\n"
     ]
    }
   ],
   "source": [
    "\n",
    "db = QuestionAnswerDatabase(\n",
    "    # db_file = \"/Users/lingjiekong/Documents/github/cambioml/plotano/plotano/db/qa.db\",\n",
    "    debug=True)"
   ]
  },
  {
   "cell_type": "code",
   "execution_count": 5,
   "metadata": {},
   "outputs": [
    {
     "name": "stdout",
     "output_type": "stream",
     "text": [
      "Table contents after creating table:\n"
     ]
    }
   ],
   "source": [
    "db.create_table()"
   ]
  },
  {
   "cell_type": "code",
   "execution_count": 6,
   "metadata": {},
   "outputs": [
    {
     "name": "stdout",
     "output_type": "stream",
     "text": [
      "Table contents after inserting table:\n",
      "ID: 1, Question: Who is Rachel?, Answer: CEO of CambioML, Timestamp: 2023-07-20 06:48:36.938696, Vote Status: n/a\n",
      "Table contents after inserting table:\n",
      "ID: 1, Question: Who is Rachel?, Answer: CEO of CambioML, Timestamp: 2023-07-20 06:48:36.938696, Vote Status: n/a\n",
      "ID: 2, Question: Who is Jared?, Answer: CTO of CambioML, Timestamp: 2023-07-20 06:48:36.943589, Vote Status: n/a\n",
      "Table contents after inserting table:\n",
      "ID: 1, Question: Who is Rachel?, Answer: CEO of CambioML, Timestamp: 2023-07-20 06:48:36.938696, Vote Status: n/a\n",
      "ID: 2, Question: Who is Jared?, Answer: CTO of CambioML, Timestamp: 2023-07-20 06:48:36.943589, Vote Status: n/a\n",
      "ID: 3, Question: Who is Kimi?, Answer: Nobody of CambioML, Timestamp: 2023-07-20 06:48:36.947053, Vote Status: n/a\n"
     ]
    }
   ],
   "source": [
    "id = db.insert_question_answer(question=\"Who is Rachel?\", answer=\"CEO of CambioML\")\n",
    "id = db.insert_question_answer(question=\"Who is Jared?\", answer=\"CTO of CambioML\")\n",
    "id = db.insert_question_answer(question=\"Who is Kimi?\", answer=\"Nobody of CambioML\")"
   ]
  },
  {
   "cell_type": "code",
   "execution_count": 7,
   "metadata": {},
   "outputs": [
    {
     "name": "stdout",
     "output_type": "stream",
     "text": [
      "Table contents after updating table:\n",
      "ID: 1, Question: Who is Rachel?, Answer: CEO of CambioML, Timestamp: 2023-07-20 06:48:36.938696, Vote Status: up\n",
      "ID: 2, Question: Who is Jared?, Answer: CTO of CambioML, Timestamp: 2023-07-20 06:48:36.943589, Vote Status: n/a\n",
      "ID: 3, Question: Who is Kimi?, Answer: Nobody of CambioML, Timestamp: 2023-07-20 06:48:36.947053, Vote Status: n/a\n",
      "Table contents after updating table:\n",
      "ID: 1, Question: Who is Rachel?, Answer: CEO of CambioML, Timestamp: 2023-07-20 06:48:36.938696, Vote Status: up\n",
      "ID: 2, Question: Who is Jared?, Answer: CTO of CambioML, Timestamp: 2023-07-20 06:48:36.943589, Vote Status: up\n",
      "ID: 3, Question: Who is Kimi?, Answer: Nobody of CambioML, Timestamp: 2023-07-20 06:48:36.947053, Vote Status: n/a\n",
      "Table contents after updating table:\n",
      "ID: 1, Question: Who is Rachel?, Answer: CEO of CambioML, Timestamp: 2023-07-20 06:48:36.938696, Vote Status: up\n",
      "ID: 2, Question: Who is Jared?, Answer: CTO of CambioML, Timestamp: 2023-07-20 06:48:36.943589, Vote Status: up\n",
      "ID: 3, Question: Who is Kimi?, Answer: Nobody of CambioML, Timestamp: 2023-07-20 06:48:36.947053, Vote Status: down\n"
     ]
    }
   ],
   "source": [
    "db.update_vote_status(id=1, vote_status=\"up\")\n",
    "db.update_vote_status(id=2, vote_status=\"up\")\n",
    "db.update_vote_status(id=3, vote_status=\"down\")"
   ]
  },
  {
   "cell_type": "code",
   "execution_count": 8,
   "metadata": {},
   "outputs": [
    {
     "data": {
      "text/plain": [
       "[(1, 'Who is Rachel?', 'CEO of CambioML', '2023-07-20 06:48:36.938696', 'up'),\n",
       " (2, 'Who is Jared?', 'CTO of CambioML', '2023-07-20 06:48:36.943589', 'up'),\n",
       " (3,\n",
       "  'Who is Kimi?',\n",
       "  'Nobody of CambioML',\n",
       "  '2023-07-20 06:48:36.947053',\n",
       "  'down')]"
      ]
     },
     "execution_count": 8,
     "metadata": {},
     "output_type": "execute_result"
    }
   ],
   "source": [
    "my_sql_data = db.retrieve_all_question_answers()\n",
    "my_sql_data"
   ]
  },
  {
   "cell_type": "code",
   "execution_count": 10,
   "metadata": {},
   "outputs": [
    {
     "name": "stdout",
     "output_type": "stream",
     "text": [
      "header: ('ID', 'Question', 'Answer', 'Timestamp', 'Vote Status')\n"
     ]
    }
   ],
   "source": [
    "from plotano.db.qa_database import CSV_HEADER\n",
    "header = CSV_HEADER\n",
    "print(\"header: {}\".format(header))\n",
    "\n",
    "common_header = ['ID', 'Question', 'Answer']\n"
   ]
  },
  {
   "cell_type": "code",
   "execution_count": 11,
   "metadata": {},
   "outputs": [],
   "source": [
    "import csv\n",
    "\n",
    "my_sql_data_path = 'my_sql_data.csv'\n",
    "with open(my_sql_data_path, 'w', newline='') as file:\n",
    "    writer = csv.writer(file)\n",
    "    writer.writerow(header)\n",
    "    writer.writerows(my_sql_data)"
   ]
  },
  {
   "cell_type": "code",
   "execution_count": 8,
   "metadata": {},
   "outputs": [],
   "source": [
    "# db.close_connection()"
   ]
  },
  {
   "cell_type": "code",
   "execution_count": null,
   "metadata": {},
   "outputs": [],
   "source": []
  },
  {
   "attachments": {},
   "cell_type": "markdown",
   "metadata": {},
   "source": [
    "### Load my_data to RLHF"
   ]
  },
  {
   "cell_type": "code",
   "execution_count": 12,
   "metadata": {},
   "outputs": [
    {
     "data": {
      "text/html": [
       "<div>\n",
       "<style scoped>\n",
       "    .dataframe tbody tr th:only-of-type {\n",
       "        vertical-align: middle;\n",
       "    }\n",
       "\n",
       "    .dataframe tbody tr th {\n",
       "        vertical-align: top;\n",
       "    }\n",
       "\n",
       "    .dataframe thead th {\n",
       "        text-align: right;\n",
       "    }\n",
       "</style>\n",
       "<table border=\"1\" class=\"dataframe\">\n",
       "  <thead>\n",
       "    <tr style=\"text-align: right;\">\n",
       "      <th></th>\n",
       "      <th>ID</th>\n",
       "      <th>Question</th>\n",
       "      <th>Answer</th>\n",
       "    </tr>\n",
       "  </thead>\n",
       "  <tbody>\n",
       "    <tr>\n",
       "      <th>0</th>\n",
       "      <td>1</td>\n",
       "      <td>Who is Rachel?</td>\n",
       "      <td>CEO of CambioML</td>\n",
       "    </tr>\n",
       "    <tr>\n",
       "      <th>1</th>\n",
       "      <td>2</td>\n",
       "      <td>Who is Jared?</td>\n",
       "      <td>CTO of CambioML</td>\n",
       "    </tr>\n",
       "    <tr>\n",
       "      <th>2</th>\n",
       "      <td>3</td>\n",
       "      <td>Who is Kimi?</td>\n",
       "      <td>Nobody of CambioML</td>\n",
       "    </tr>\n",
       "  </tbody>\n",
       "</table>\n",
       "</div>"
      ],
      "text/plain": [
       "   ID        Question              Answer\n",
       "0   1  Who is Rachel?     CEO of CambioML\n",
       "1   2   Who is Jared?     CTO of CambioML\n",
       "2   3    Who is Kimi?  Nobody of CambioML"
      ]
     },
     "execution_count": 12,
     "metadata": {},
     "output_type": "execute_result"
    }
   ],
   "source": [
    "import pandas as pd\n",
    "my_data_hf = pd.read_csv(my_sql_data_path)[common_header]\n",
    "my_data_hf"
   ]
  },
  {
   "cell_type": "code",
   "execution_count": 14,
   "metadata": {},
   "outputs": [
    {
     "name": "stdout",
     "output_type": "stream",
     "text": [
      "Collecting fastparquet\n",
      "  Downloading fastparquet-2023.7.0-cp310-cp310-manylinux_2_17_x86_64.manylinux2014_x86_64.whl (1.5 MB)\n",
      "\u001b[2K     \u001b[90m━━━━━━━━━━━━━━━━━━━━━━━━━━━━━━━━━━━━━━━━\u001b[0m \u001b[32m1.5/1.5 MB\u001b[0m \u001b[31m12.4 MB/s\u001b[0m eta \u001b[36m0:00:00\u001b[0m \u001b[36m0:00:01\u001b[0m\n",
      "\u001b[?25hRequirement already satisfied: pandas>=1.5.0 in /opt/conda/envs/trl/lib/python3.10/site-packages (from fastparquet) (2.0.3)\n",
      "Requirement already satisfied: numpy>=1.20.3 in /opt/conda/envs/trl/lib/python3.10/site-packages (from fastparquet) (1.25.1)\n",
      "Collecting cramjam>=2.3 (from fastparquet)\n",
      "  Downloading cramjam-2.6.2-cp310-cp310-manylinux_2_17_x86_64.manylinux2014_x86_64.whl (2.0 MB)\n",
      "\u001b[2K     \u001b[90m━━━━━━━━━━━━━━━━━━━━━━━━━━━━━━━━━━━━━━━━\u001b[0m \u001b[32m2.0/2.0 MB\u001b[0m \u001b[31m106.6 MB/s\u001b[0m eta \u001b[36m0:00:00\u001b[0m\n",
      "\u001b[?25hRequirement already satisfied: fsspec in /opt/conda/envs/trl/lib/python3.10/site-packages (from fastparquet) (2023.6.0)\n",
      "Requirement already satisfied: packaging in /opt/conda/envs/trl/lib/python3.10/site-packages (from fastparquet) (23.1)\n",
      "Requirement already satisfied: python-dateutil>=2.8.2 in /opt/conda/envs/trl/lib/python3.10/site-packages (from pandas>=1.5.0->fastparquet) (2.8.2)\n",
      "Requirement already satisfied: pytz>=2020.1 in /opt/conda/envs/trl/lib/python3.10/site-packages (from pandas>=1.5.0->fastparquet) (2023.3)\n",
      "Requirement already satisfied: tzdata>=2022.1 in /opt/conda/envs/trl/lib/python3.10/site-packages (from pandas>=1.5.0->fastparquet) (2023.3)\n",
      "Requirement already satisfied: six>=1.5 in /opt/conda/envs/trl/lib/python3.10/site-packages (from python-dateutil>=2.8.2->pandas>=1.5.0->fastparquet) (1.16.0)\n",
      "Installing collected packages: cramjam, fastparquet\n",
      "Successfully installed cramjam-2.6.2 fastparquet-2023.7.0\n"
     ]
    }
   ],
   "source": [
    "# !pip install fastparquet"
   ]
  },
  {
   "cell_type": "code",
   "execution_count": 13,
   "metadata": {},
   "outputs": [
    {
     "data": {
      "text/html": [
       "<div>\n",
       "<style scoped>\n",
       "    .dataframe tbody tr th:only-of-type {\n",
       "        vertical-align: middle;\n",
       "    }\n",
       "\n",
       "    .dataframe tbody tr th {\n",
       "        vertical-align: top;\n",
       "    }\n",
       "\n",
       "    .dataframe thead th {\n",
       "        text-align: right;\n",
       "    }\n",
       "</style>\n",
       "<table border=\"1\" class=\"dataframe\">\n",
       "  <thead>\n",
       "    <tr style=\"text-align: right;\">\n",
       "      <th></th>\n",
       "      <th>qid</th>\n",
       "      <th>question</th>\n",
       "      <th>date</th>\n",
       "      <th>metadata</th>\n",
       "      <th>response_j</th>\n",
       "      <th>response_k</th>\n",
       "    </tr>\n",
       "  </thead>\n",
       "  <tbody>\n",
       "    <tr>\n",
       "      <th>0</th>\n",
       "      <td>12891264</td>\n",
       "      <td>I am using jQuery fileupload plugin and I want...</td>\n",
       "      <td>2012/10/15</td>\n",
       "      <td>[https://Stackoverflow.com/questions/12891264,...</td>\n",
       "      <td>Looking at the library code, seems all events ...</td>\n",
       "      <td>Check if the server-side uploading script retu...</td>\n",
       "    </tr>\n",
       "    <tr>\n",
       "      <th>1</th>\n",
       "      <td>588860</td>\n",
       "      <td>When reading about the Big Bang you’ll commonl...</td>\n",
       "      <td>2020/10/22</td>\n",
       "      <td>[https://physics.stackexchange.com/questions/5...</td>\n",
       "      <td>No. The local energy *density* is reduced as t...</td>\n",
       "      <td>Are you aware of redshift? If a photon with a ...</td>\n",
       "    </tr>\n",
       "    <tr>\n",
       "      <th>2</th>\n",
       "      <td>141736</td>\n",
       "      <td>I've got a flight back to my own country with ...</td>\n",
       "      <td>2019/07/09</td>\n",
       "      <td>[https://travel.stackexchange.com/questions/14...</td>\n",
       "      <td>12:45 pm is also 12:45 o'clock in internationa...</td>\n",
       "      <td>PM is an acronym for the Latin *post meridiem*...</td>\n",
       "    </tr>\n",
       "    <tr>\n",
       "      <th>3</th>\n",
       "      <td>1484683</td>\n",
       "      <td>I have a piece of code that works fine in the ...</td>\n",
       "      <td>2009/09/27</td>\n",
       "      <td>[https://Stackoverflow.com/questions/1484683, ...</td>\n",
       "      <td>I had this exact same problem. The only way I ...</td>\n",
       "      <td>In your console, the rails environment is load...</td>\n",
       "    </tr>\n",
       "    <tr>\n",
       "      <th>4</th>\n",
       "      <td>1484683</td>\n",
       "      <td>I have a piece of code that works fine in the ...</td>\n",
       "      <td>2009/09/27</td>\n",
       "      <td>[https://Stackoverflow.com/questions/1484683, ...</td>\n",
       "      <td>I had this exact same problem. The only way I ...</td>\n",
       "      <td>Did you tell rake that your task is dependent ...</td>\n",
       "    </tr>\n",
       "  </tbody>\n",
       "</table>\n",
       "</div>"
      ],
      "text/plain": [
       "        qid                                           question        date  \\\n",
       "0  12891264  I am using jQuery fileupload plugin and I want...  2012/10/15   \n",
       "1    588860  When reading about the Big Bang you’ll commonl...  2020/10/22   \n",
       "2    141736  I've got a flight back to my own country with ...  2019/07/09   \n",
       "3   1484683  I have a piece of code that works fine in the ...  2009/09/27   \n",
       "4   1484683  I have a piece of code that works fine in the ...  2009/09/27   \n",
       "\n",
       "                                            metadata  \\\n",
       "0  [https://Stackoverflow.com/questions/12891264,...   \n",
       "1  [https://physics.stackexchange.com/questions/5...   \n",
       "2  [https://travel.stackexchange.com/questions/14...   \n",
       "3  [https://Stackoverflow.com/questions/1484683, ...   \n",
       "4  [https://Stackoverflow.com/questions/1484683, ...   \n",
       "\n",
       "                                          response_j  \\\n",
       "0  Looking at the library code, seems all events ...   \n",
       "1  No. The local energy *density* is reduced as t...   \n",
       "2  12:45 pm is also 12:45 o'clock in internationa...   \n",
       "3  I had this exact same problem. The only way I ...   \n",
       "4  I had this exact same problem. The only way I ...   \n",
       "\n",
       "                                          response_k  \n",
       "0  Check if the server-side uploading script retu...  \n",
       "1  Are you aware of redshift? If a photon with a ...  \n",
       "2  PM is an acronym for the Latin *post meridiem*...  \n",
       "3  In your console, the rails environment is load...  \n",
       "4  Did you tell rake that your task is dependent ...  "
      ]
     },
     "execution_count": 13,
     "metadata": {},
     "output_type": "execute_result"
    }
   ],
   "source": [
    "\n",
    "stackoverflow_dataset = pd.read_parquet('/home/ubuntu/datasets/train-00000-of-00020.parquet', engine='fastparquet', index=False)\n",
    "stackoverflow_dataset.head()"
   ]
  },
  {
   "cell_type": "code",
   "execution_count": 14,
   "metadata": {},
   "outputs": [
    {
     "data": {
      "text/html": [
       "<div>\n",
       "<style scoped>\n",
       "    .dataframe tbody tr th:only-of-type {\n",
       "        vertical-align: middle;\n",
       "    }\n",
       "\n",
       "    .dataframe tbody tr th {\n",
       "        vertical-align: top;\n",
       "    }\n",
       "\n",
       "    .dataframe thead th {\n",
       "        text-align: right;\n",
       "    }\n",
       "</style>\n",
       "<table border=\"1\" class=\"dataframe\">\n",
       "  <thead>\n",
       "    <tr style=\"text-align: right;\">\n",
       "      <th></th>\n",
       "      <th>qid</th>\n",
       "      <th>question</th>\n",
       "      <th>response_j</th>\n",
       "    </tr>\n",
       "  </thead>\n",
       "  <tbody>\n",
       "    <tr>\n",
       "      <th>0</th>\n",
       "      <td>12891264</td>\n",
       "      <td>I am using jQuery fileupload plugin and I want...</td>\n",
       "      <td>Looking at the library code, seems all events ...</td>\n",
       "    </tr>\n",
       "    <tr>\n",
       "      <th>1</th>\n",
       "      <td>588860</td>\n",
       "      <td>When reading about the Big Bang you’ll commonl...</td>\n",
       "      <td>No. The local energy *density* is reduced as t...</td>\n",
       "    </tr>\n",
       "    <tr>\n",
       "      <th>2</th>\n",
       "      <td>141736</td>\n",
       "      <td>I've got a flight back to my own country with ...</td>\n",
       "      <td>12:45 pm is also 12:45 o'clock in internationa...</td>\n",
       "    </tr>\n",
       "    <tr>\n",
       "      <th>3</th>\n",
       "      <td>1484683</td>\n",
       "      <td>I have a piece of code that works fine in the ...</td>\n",
       "      <td>I had this exact same problem. The only way I ...</td>\n",
       "    </tr>\n",
       "    <tr>\n",
       "      <th>4</th>\n",
       "      <td>1484683</td>\n",
       "      <td>I have a piece of code that works fine in the ...</td>\n",
       "      <td>I had this exact same problem. The only way I ...</td>\n",
       "    </tr>\n",
       "  </tbody>\n",
       "</table>\n",
       "</div>"
      ],
      "text/plain": [
       "        qid                                           question  \\\n",
       "0  12891264  I am using jQuery fileupload plugin and I want...   \n",
       "1    588860  When reading about the Big Bang you’ll commonl...   \n",
       "2    141736  I've got a flight back to my own country with ...   \n",
       "3   1484683  I have a piece of code that works fine in the ...   \n",
       "4   1484683  I have a piece of code that works fine in the ...   \n",
       "\n",
       "                                          response_j  \n",
       "0  Looking at the library code, seems all events ...  \n",
       "1  No. The local energy *density* is reduced as t...  \n",
       "2  12:45 pm is also 12:45 o'clock in internationa...  \n",
       "3  I had this exact same problem. The only way I ...  \n",
       "4  I had this exact same problem. The only way I ...  "
      ]
     },
     "execution_count": 14,
     "metadata": {},
     "output_type": "execute_result"
    }
   ],
   "source": [
    "my_stackoverflow_dataset = stackoverflow_dataset[['qid', 'question', 'response_j']]\n",
    "my_stackoverflow_dataset.head()"
   ]
  },
  {
   "cell_type": "code",
   "execution_count": 15,
   "metadata": {},
   "outputs": [
    {
     "data": {
      "text/html": [
       "<div>\n",
       "<style scoped>\n",
       "    .dataframe tbody tr th:only-of-type {\n",
       "        vertical-align: middle;\n",
       "    }\n",
       "\n",
       "    .dataframe tbody tr th {\n",
       "        vertical-align: top;\n",
       "    }\n",
       "\n",
       "    .dataframe thead th {\n",
       "        text-align: right;\n",
       "    }\n",
       "</style>\n",
       "<table border=\"1\" class=\"dataframe\">\n",
       "  <thead>\n",
       "    <tr style=\"text-align: right;\">\n",
       "      <th></th>\n",
       "      <th>ID</th>\n",
       "      <th>Question</th>\n",
       "      <th>Answer</th>\n",
       "    </tr>\n",
       "  </thead>\n",
       "  <tbody>\n",
       "    <tr>\n",
       "      <th>0</th>\n",
       "      <td>12891264</td>\n",
       "      <td>I am using jQuery fileupload plugin and I want...</td>\n",
       "      <td>Looking at the library code, seems all events ...</td>\n",
       "    </tr>\n",
       "    <tr>\n",
       "      <th>1</th>\n",
       "      <td>588860</td>\n",
       "      <td>When reading about the Big Bang you’ll commonl...</td>\n",
       "      <td>No. The local energy *density* is reduced as t...</td>\n",
       "    </tr>\n",
       "    <tr>\n",
       "      <th>2</th>\n",
       "      <td>141736</td>\n",
       "      <td>I've got a flight back to my own country with ...</td>\n",
       "      <td>12:45 pm is also 12:45 o'clock in internationa...</td>\n",
       "    </tr>\n",
       "    <tr>\n",
       "      <th>3</th>\n",
       "      <td>1484683</td>\n",
       "      <td>I have a piece of code that works fine in the ...</td>\n",
       "      <td>I had this exact same problem. The only way I ...</td>\n",
       "    </tr>\n",
       "    <tr>\n",
       "      <th>4</th>\n",
       "      <td>1484683</td>\n",
       "      <td>I have a piece of code that works fine in the ...</td>\n",
       "      <td>I had this exact same problem. The only way I ...</td>\n",
       "    </tr>\n",
       "  </tbody>\n",
       "</table>\n",
       "</div>"
      ],
      "text/plain": [
       "         ID                                           Question  \\\n",
       "0  12891264  I am using jQuery fileupload plugin and I want...   \n",
       "1    588860  When reading about the Big Bang you’ll commonl...   \n",
       "2    141736  I've got a flight back to my own country with ...   \n",
       "3   1484683  I have a piece of code that works fine in the ...   \n",
       "4   1484683  I have a piece of code that works fine in the ...   \n",
       "\n",
       "                                              Answer  \n",
       "0  Looking at the library code, seems all events ...  \n",
       "1  No. The local energy *density* is reduced as t...  \n",
       "2  12:45 pm is also 12:45 o'clock in internationa...  \n",
       "3  I had this exact same problem. The only way I ...  \n",
       "4  I had this exact same problem. The only way I ...  "
      ]
     },
     "execution_count": 15,
     "metadata": {},
     "output_type": "execute_result"
    }
   ],
   "source": [
    "my_stackoverflow_dataset.columns = common_header\n",
    "my_stackoverflow_dataset.head()"
   ]
  },
  {
   "cell_type": "code",
   "execution_count": 16,
   "metadata": {},
   "outputs": [
    {
     "data": {
      "text/html": [
       "<div>\n",
       "<style scoped>\n",
       "    .dataframe tbody tr th:only-of-type {\n",
       "        vertical-align: middle;\n",
       "    }\n",
       "\n",
       "    .dataframe tbody tr th {\n",
       "        vertical-align: top;\n",
       "    }\n",
       "\n",
       "    .dataframe thead th {\n",
       "        text-align: right;\n",
       "    }\n",
       "</style>\n",
       "<table border=\"1\" class=\"dataframe\">\n",
       "  <thead>\n",
       "    <tr style=\"text-align: right;\">\n",
       "      <th></th>\n",
       "      <th>ID</th>\n",
       "      <th>Question</th>\n",
       "      <th>Answer</th>\n",
       "    </tr>\n",
       "  </thead>\n",
       "  <tbody>\n",
       "    <tr>\n",
       "      <th>0</th>\n",
       "      <td>1</td>\n",
       "      <td>Who is Rachel?</td>\n",
       "      <td>CEO of CambioML</td>\n",
       "    </tr>\n",
       "    <tr>\n",
       "      <th>1</th>\n",
       "      <td>2</td>\n",
       "      <td>Who is Jared?</td>\n",
       "      <td>CTO of CambioML</td>\n",
       "    </tr>\n",
       "    <tr>\n",
       "      <th>2</th>\n",
       "      <td>3</td>\n",
       "      <td>Who is Kimi?</td>\n",
       "      <td>Nobody of CambioML</td>\n",
       "    </tr>\n",
       "    <tr>\n",
       "      <th>0</th>\n",
       "      <td>12891264</td>\n",
       "      <td>I am using jQuery fileupload plugin and I want...</td>\n",
       "      <td>Looking at the library code, seems all events ...</td>\n",
       "    </tr>\n",
       "    <tr>\n",
       "      <th>1</th>\n",
       "      <td>588860</td>\n",
       "      <td>When reading about the Big Bang you’ll commonl...</td>\n",
       "      <td>No. The local energy *density* is reduced as t...</td>\n",
       "    </tr>\n",
       "    <tr>\n",
       "      <th>2</th>\n",
       "      <td>141736</td>\n",
       "      <td>I've got a flight back to my own country with ...</td>\n",
       "      <td>12:45 pm is also 12:45 o'clock in internationa...</td>\n",
       "    </tr>\n",
       "    <tr>\n",
       "      <th>3</th>\n",
       "      <td>1484683</td>\n",
       "      <td>I have a piece of code that works fine in the ...</td>\n",
       "      <td>I had this exact same problem. The only way I ...</td>\n",
       "    </tr>\n",
       "    <tr>\n",
       "      <th>4</th>\n",
       "      <td>1484683</td>\n",
       "      <td>I have a piece of code that works fine in the ...</td>\n",
       "      <td>I had this exact same problem. The only way I ...</td>\n",
       "    </tr>\n",
       "    <tr>\n",
       "      <th>5</th>\n",
       "      <td>54589610</td>\n",
       "      <td>Gradle sync is failing after I updated its ver...</td>\n",
       "      <td>Following steps helps me - \\n\\n1. Change the *...</td>\n",
       "    </tr>\n",
       "    <tr>\n",
       "      <th>6</th>\n",
       "      <td>58521105</td>\n",
       "      <td>The below code groups the result (a List of Cl...</td>\n",
       "      <td>You are selecting `InnerList` from non-grouped...</td>\n",
       "    </tr>\n",
       "  </tbody>\n",
       "</table>\n",
       "</div>"
      ],
      "text/plain": [
       "         ID                                           Question  \\\n",
       "0         1                                     Who is Rachel?   \n",
       "1         2                                      Who is Jared?   \n",
       "2         3                                       Who is Kimi?   \n",
       "0  12891264  I am using jQuery fileupload plugin and I want...   \n",
       "1    588860  When reading about the Big Bang you’ll commonl...   \n",
       "2    141736  I've got a flight back to my own country with ...   \n",
       "3   1484683  I have a piece of code that works fine in the ...   \n",
       "4   1484683  I have a piece of code that works fine in the ...   \n",
       "5  54589610  Gradle sync is failing after I updated its ver...   \n",
       "6  58521105  The below code groups the result (a List of Cl...   \n",
       "\n",
       "                                              Answer  \n",
       "0                                    CEO of CambioML  \n",
       "1                                    CTO of CambioML  \n",
       "2                                 Nobody of CambioML  \n",
       "0  Looking at the library code, seems all events ...  \n",
       "1  No. The local energy *density* is reduced as t...  \n",
       "2  12:45 pm is also 12:45 o'clock in internationa...  \n",
       "3  I had this exact same problem. The only way I ...  \n",
       "4  I had this exact same problem. The only way I ...  \n",
       "5  Following steps helps me - \\n\\n1. Change the *...  \n",
       "6  You are selecting `InnerList` from non-grouped...  "
      ]
     },
     "execution_count": 16,
     "metadata": {},
     "output_type": "execute_result"
    }
   ],
   "source": [
    "my_data_hf = pd.concat([my_data_hf, my_stackoverflow_dataset])\n",
    "my_data_hf.head(10)"
   ]
  },
  {
   "cell_type": "code",
   "execution_count": 17,
   "metadata": {},
   "outputs": [],
   "source": [
    "my_data_hf.head(100).to_csv(my_sql_data_path)"
   ]
  },
  {
   "attachments": {},
   "cell_type": "markdown",
   "metadata": {},
   "source": [
    "### Load to huggingface"
   ]
  },
  {
   "cell_type": "code",
   "execution_count": 18,
   "metadata": {},
   "outputs": [
    {
     "name": "stderr",
     "output_type": "stream",
     "text": [
      "/opt/conda/envs/trl/lib/python3.10/site-packages/tqdm/auto.py:21: TqdmWarning: IProgress not found. Please update jupyter and ipywidgets. See https://ipywidgets.readthedocs.io/en/stable/user_install.html\n",
      "  from .autonotebook import tqdm as notebook_tqdm\n"
     ]
    },
    {
     "name": "stdout",
     "output_type": "stream",
     "text": [
      "Downloading and preparing dataset csv/default to /home/ubuntu/.cache/huggingface/datasets/csv/default-25073f017225eda6/0.0.0/eea64c71ca8b46dd3f537ed218fc9bf495d5707789152eb2764f5c78fa66d59d...\n"
     ]
    },
    {
     "name": "stderr",
     "output_type": "stream",
     "text": [
      "Downloading data files: 100%|██████████| 1/1 [00:00<00:00, 7206.71it/s]\n",
      "Extracting data files: 100%|██████████| 1/1 [00:00<00:00, 1244.97it/s]\n",
      "                                                        \r"
     ]
    },
    {
     "name": "stdout",
     "output_type": "stream",
     "text": [
      "Dataset csv downloaded and prepared to /home/ubuntu/.cache/huggingface/datasets/csv/default-25073f017225eda6/0.0.0/eea64c71ca8b46dd3f537ed218fc9bf495d5707789152eb2764f5c78fa66d59d. Subsequent calls will reuse this data.\n"
     ]
    },
    {
     "name": "stderr",
     "output_type": "stream",
     "text": [
      "100%|██████████| 1/1 [00:00<00:00, 825.16it/s]\n"
     ]
    }
   ],
   "source": [
    "from datasets import load_dataset\n",
    "ds = load_dataset('csv', data_files=my_sql_data_path)"
   ]
  },
  {
   "cell_type": "code",
   "execution_count": 19,
   "metadata": {},
   "outputs": [
    {
     "data": {
      "text/plain": [
       "DatasetDict({\n",
       "    train: Dataset({\n",
       "        features: ['Unnamed: 0', 'ID', 'Question', 'Answer'],\n",
       "        num_rows: 90\n",
       "    })\n",
       "    test: Dataset({\n",
       "        features: ['Unnamed: 0', 'ID', 'Question', 'Answer'],\n",
       "        num_rows: 10\n",
       "    })\n",
       "})"
      ]
     },
     "execution_count": 19,
     "metadata": {},
     "output_type": "execute_result"
    }
   ],
   "source": [
    "ds = ds['train'] # Convert DatasetDict to Dataset\n",
    "\n",
    "ds = ds.train_test_split(test_size=0.1)\n",
    "ds\n"
   ]
  },
  {
   "cell_type": "code",
   "execution_count": 21,
   "metadata": {},
   "outputs": [
    {
     "data": {
      "text/plain": [
       "(Dataset({\n",
       "     features: ['Unnamed: 0', 'ID', 'Question', 'Answer'],\n",
       "     num_rows: 90\n",
       " }),\n",
       " Dataset({\n",
       "     features: ['Unnamed: 0', 'ID', 'Question', 'Answer'],\n",
       "     num_rows: 10\n",
       " }))"
      ]
     },
     "execution_count": 21,
     "metadata": {},
     "output_type": "execute_result"
    }
   ],
   "source": [
    "train_dataset = ds[\"train\"]\n",
    "test_dataset = ds[\"test\"]\n",
    "\n",
    "train_dataset, test_dataset"
   ]
  },
  {
   "attachments": {},
   "cell_type": "markdown",
   "metadata": {},
   "source": [
    "### Test RLHF code with DB"
   ]
  },
  {
   "cell_type": "code",
   "execution_count": 28,
   "metadata": {},
   "outputs": [],
   "source": [
    "from plotano.rlhf.rlhf import RLHFConfig\n",
    "\n",
    "config = RLHFConfig(\n",
    "    base_model_path=\"meta-llama/Llama-2-7b-hf\", ## \"distilroberta-base\", ##\n",
    "    reward_model_path=\"databricks/dolly-v2-3b\", \n",
    "    dataset_type=\"csv\", ## \"huggingface\", ## \n",
    "    dataset_name='/home/ubuntu/plotano/plotano/my_sql_data.csv',\n",
    "    max_steps=3,\n",
    "    output_dir=\"../tests/\",\n",
    "    dataset_subset_reward_train=100,\n",
    ")"
   ]
  },
  {
   "cell_type": "code",
   "execution_count": 29,
   "metadata": {},
   "outputs": [
    {
     "name": "stderr",
     "output_type": "stream",
     "text": [
      "Found cached dataset csv (/home/ubuntu/.cache/huggingface/datasets/csv/default-25073f017225eda6/0.0.0/eea64c71ca8b46dd3f537ed218fc9bf495d5707789152eb2764f5c78fa66d59d)\n",
      "100%|██████████| 1/1 [00:00<00:00, 528.58it/s]\n",
      "Loading cached split indices for dataset at /home/ubuntu/.cache/huggingface/datasets/csv/default-25073f017225eda6/0.0.0/eea64c71ca8b46dd3f537ed218fc9bf495d5707789152eb2764f5c78fa66d59d/cache-3480f33d056ef486.arrow and /home/ubuntu/.cache/huggingface/datasets/csv/default-25073f017225eda6/0.0.0/eea64c71ca8b46dd3f537ed218fc9bf495d5707789152eb2764f5c78fa66d59d/cache-f0354e2d06d9ddca.arrow\n"
     ]
    },
    {
     "name": "stdout",
     "output_type": "stream",
     "text": [
      "Size of the train set: 90. Size of the validation set: 10\n"
     ]
    },
    {
     "name": "stderr",
     "output_type": "stream",
     "text": [
      "Loading checkpoint shards: 100%|██████████| 2/2 [00:52<00:00, 26.36s/it]\n",
      "/opt/conda/envs/trl/lib/python3.10/site-packages/peft/utils/other.py:102: FutureWarning: prepare_model_for_int8_training is deprecated and will be removed in a future version. Use prepare_model_for_kbit_training instead.\n",
      "  warnings.warn(\n",
      "Using pad_token, but it is not set yet.\n",
      "/opt/conda/envs/trl/lib/python3.10/site-packages/trl/trainer/sft_trainer.py:159: UserWarning: You didn't pass a `max_seq_length` argument to the SFTTrainer, this will default to 1024\n",
      "  warnings.warn(\n",
      "/opt/conda/envs/trl/lib/python3.10/site-packages/trl/trainer/sft_trainer.py:212: UserWarning: You passed `packing=True` to the SFTTrainer, and you are training your model with `max_steps` strategy. The dataset will be iterated until the `max_steps` are reached.\n",
      "  warnings.warn(\n"
     ]
    }
   ],
   "source": [
    "from plotano.rlhf.rlhf import SFT ##, RewardTrainer, RL\n",
    "\n",
    "rlhf_step1_sft = SFT(config)"
   ]
  },
  {
   "cell_type": "code",
   "execution_count": 30,
   "metadata": {},
   "outputs": [
    {
     "name": "stderr",
     "output_type": "stream",
     "text": [
      "/opt/conda/envs/trl/lib/python3.10/site-packages/transformers/optimization.py:411: FutureWarning: This implementation of AdamW is deprecated and will be removed in a future version. Use the PyTorch implementation torch.optim.AdamW instead, or set `no_deprecation_warning=True` to disable this warning\n",
      "  warnings.warn(\n",
      "/opt/conda/envs/trl/lib/python3.10/site-packages/trl/trainer/utils.py:268: UserWarning: The dataset reached end and the iterator is reset to the start.\n",
      "  warnings.warn(\"The dataset reached end and the iterator is reset to the start.\")\n",
      "You're using a LlamaTokenizerFast tokenizer. Please note that with a fast tokenizer, using the `__call__` method is faster than using a method to encode the text followed by a call to the `pad` method to get a padded encoding.\n",
      "`use_cache=True` is incompatible with gradient checkpointing. Setting `use_cache=False`...\n",
      "/opt/conda/envs/trl/lib/python3.10/site-packages/bitsandbytes/autograd/_functions.py:321: UserWarning: MatMul8bitLt: inputs will be cast from torch.float32 to float16 during quantization\n",
      "  warnings.warn(f\"MatMul8bitLt: inputs will be cast from {A.dtype} to float16 during quantization\")\n"
     ]
    },
    {
     "data": {
      "text/html": [
       "\n",
       "    <div>\n",
       "      \n",
       "      <progress value='3' max='3' style='width:300px; height:20px; vertical-align: middle;'></progress>\n",
       "      [3/3 00:16, Epoch 0/1]\n",
       "    </div>\n",
       "    <table border=\"1\" class=\"dataframe\">\n",
       "  <thead>\n",
       " <tr style=\"text-align: left;\">\n",
       "      <th>Step</th>\n",
       "      <th>Training Loss</th>\n",
       "      <th>Validation Loss</th>\n",
       "    </tr>\n",
       "  </thead>\n",
       "  <tbody>\n",
       "  </tbody>\n",
       "</table><p>"
      ],
      "text/plain": [
       "<IPython.core.display.HTML object>"
      ]
     },
     "metadata": {},
     "output_type": "display_data"
    }
   ],
   "source": [
    "rlhf_step1_sft.train_and_save(\"../rlhf_tests/step1_07200008\")"
   ]
  },
  {
   "cell_type": "code",
   "execution_count": null,
   "metadata": {},
   "outputs": [],
   "source": []
  }
 ],
 "metadata": {
  "kernelspec": {
   "display_name": "peel",
   "language": "python",
   "name": "python3"
  },
  "language_info": {
   "codemirror_mode": {
    "name": "ipython",
    "version": 3
   },
   "file_extension": ".py",
   "mimetype": "text/x-python",
   "name": "python",
   "nbconvert_exporter": "python",
   "pygments_lexer": "ipython3",
   "version": "3.10.12"
  },
  "orig_nbformat": 4
 },
 "nbformat": 4,
 "nbformat_minor": 2
}
